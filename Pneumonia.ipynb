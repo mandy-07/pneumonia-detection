{
  "nbformat": 4,
  "nbformat_minor": 0,
  "metadata": {
    "colab": {
      "provenance": [],
      "gpuType": "T4"
    },
    "kernelspec": {
      "name": "python3",
      "display_name": "Python 3"
    },
    "language_info": {
      "name": "python"
    },
    "accelerator": "GPU"
  },
  "cells": [
    {
      "cell_type": "code",
      "source": [
        "from google.colab import drive\n",
        "drive.mount('/content/drive')"
      ],
      "metadata": {
        "colab": {
          "base_uri": "https://localhost:8080/"
        },
        "id": "rm9kYNH0pVYO",
        "outputId": "5433bc49-0c9e-4cac-8dbf-da851537717e"
      },
      "execution_count": null,
      "outputs": [
        {
          "output_type": "stream",
          "name": "stdout",
          "text": [
            "Mounted at /content/drive\n"
          ]
        }
      ]
    },
    {
      "cell_type": "code",
      "source": [
        "import os\n",
        "os.environ['KAGGLE_CONFIG_DIR'] = \"/content/drive/MyDrive/kaggle\"\n"
      ],
      "metadata": {
        "id": "dsq9Y7cjsBJF"
      },
      "execution_count": null,
      "outputs": []
    },
    {
      "cell_type": "markdown",
      "source": [
        "# ***We have done this once and no need to do again***"
      ],
      "metadata": {
        "id": "bw7g49a0yJBy"
      }
    },
    {
      "cell_type": "code",
      "source": [
        "# !kaggle datasets list -s pneumonia"
      ],
      "metadata": {
        "collapsed": true,
        "id": "PVsqEthgv1gf"
      },
      "execution_count": null,
      "outputs": []
    },
    {
      "cell_type": "code",
      "source": [
        "# # Make dataset folder in Drive\n",
        "# !mkdir -p /content/drive/MyDrive/Pneumonia-Detection/data\n",
        "\n",
        "# # Download the dataset directly to Drive\n",
        "# !kaggle datasets download -d paultimothymooney/chest-xray-pneumonia -p /content/drive/MyDrive/Pneumonia-Detection/data\n"
      ],
      "metadata": {
        "collapsed": true,
        "id": "NtgdhYtFum3l"
      },
      "execution_count": null,
      "outputs": []
    },
    {
      "cell_type": "code",
      "source": [
        "# import zipfile\n",
        "\n",
        "# zip_path = \"/content/drive/MyDrive/Pneumonia-Detection/data/chest-xray-pneumonia.zip\"\n",
        "# extract_to = \"/content/drive/MyDrive/Pneumonia-Detection/data/\"\n",
        "\n",
        "# with zipfile.ZipFile(zip_path, 'r') as zip_ref:\n",
        "#     zip_ref.extractall(extract_to)\n",
        "\n",
        "# print(\"✅ Dataset extracted successfully!\")\n"
      ],
      "metadata": {
        "id": "GSpPXaHQQ494"
      },
      "execution_count": null,
      "outputs": []
    },
    {
      "cell_type": "markdown",
      "source": [
        "# ***Folder Structure***"
      ],
      "metadata": {
        "id": "9P_9FClD0nap"
      }
    },
    {
      "cell_type": "code",
      "source": [
        "# Set dataset path to use later\n",
        "base_dir = '/content/drive/MyDrive/Pneumonia-Detection/data/chest_xray'"
      ],
      "metadata": {
        "id": "9Yf3fNRvS3Vn"
      },
      "execution_count": null,
      "outputs": []
    },
    {
      "cell_type": "code",
      "source": [
        "import shutil\n",
        "\n",
        "for split in ['train', 'val', 'test']:\n",
        "    pneu_dir = os.path.join(base_dir, split, 'PNEUMONIA')\n",
        "    if not os.path.exists(pneu_dir):\n",
        "        continue\n",
        "\n",
        "    bacterial = os.path.join(base_dir, split, 'BACTERIAL_PNEUMONIA')\n",
        "    viral = os.path.join(base_dir, split, 'VIRAL_PNEUMONIA')\n",
        "\n",
        "    os.makedirs(bacterial, exist_ok=True)\n",
        "    os.makedirs(viral, exist_ok=True)\n",
        "\n",
        "    for fname in os.listdir(pneu_dir):\n",
        "        src = os.path.join(pneu_dir, fname)\n",
        "        if 'bacteria' in fname.lower():\n",
        "            shutil.move(src, os.path.join(bacterial, fname))\n",
        "        elif 'virus' in fname.lower():\n",
        "            shutil.move(src, os.path.join(viral, fname))\n",
        "\n",
        "    shutil.rmtree(pneu_dir, ignore_errors=True)\n",
        "\n",
        "print(\"✅ Folder structure fixed.\")\n"
      ],
      "metadata": {
        "colab": {
          "base_uri": "https://localhost:8080/"
        },
        "id": "s9OorYpv0fAS",
        "outputId": "9263906b-d916-4f9b-8b77-04eee2b2b9cb"
      },
      "execution_count": null,
      "outputs": [
        {
          "output_type": "stream",
          "name": "stdout",
          "text": [
            "✅ Folder structure fixed.\n"
          ]
        }
      ]
    },
    {
      "cell_type": "markdown",
      "source": [
        "# ***Base Directory***"
      ],
      "metadata": {
        "id": "X8dDQ2ydyW76"
      }
    },
    {
      "cell_type": "code",
      "source": [
        "# Set dataset path to use later\n",
        "base_dir = '/content/drive/MyDrive/Pneumonia-Detection/data/chest_xray'"
      ],
      "metadata": {
        "id": "SnIYbtmNyWTO"
      },
      "execution_count": null,
      "outputs": []
    },
    {
      "cell_type": "code",
      "source": [
        "for split in ['train', 'val', 'test']:\n",
        "    print(f\"\\n📁 {split.upper()} SET\")\n",
        "    for label in ['NORMAL', 'BACTERIAL_PNEUMONIA', 'VIRAL_PNEUMONIA']:\n",
        "        folder = os.path.join(base_dir, split, label)\n",
        "        if os.path.exists(folder):\n",
        "            print(f\"🔸 {label}: {len(os.listdir(folder))} images\")\n",
        "        else:\n",
        "            print(f\"❌ Missing folder: {folder}\")\n"
      ],
      "metadata": {
        "colab": {
          "base_uri": "https://localhost:8080/"
        },
        "id": "weaDRJFlRPip",
        "outputId": "535fa917-f314-4412-ea8a-a60fcab056db"
      },
      "execution_count": null,
      "outputs": [
        {
          "output_type": "stream",
          "name": "stdout",
          "text": [
            "\n",
            "📁 TRAIN SET\n",
            "🔸 NORMAL: 1341 images\n",
            "🔸 BACTERIAL_PNEUMONIA: 2530 images\n",
            "🔸 VIRAL_PNEUMONIA: 1345 images\n",
            "\n",
            "📁 VAL SET\n",
            "🔸 NORMAL: 8 images\n",
            "🔸 BACTERIAL_PNEUMONIA: 8 images\n",
            "🔸 VIRAL_PNEUMONIA: 0 images\n",
            "\n",
            "📁 TEST SET\n",
            "🔸 NORMAL: 234 images\n",
            "🔸 BACTERIAL_PNEUMONIA: 242 images\n",
            "🔸 VIRAL_PNEUMONIA: 148 images\n"
          ]
        }
      ]
    },
    {
      "cell_type": "code",
      "source": [
        "import os\n",
        "import pandas as pd\n",
        "\n",
        "base_dir= '/content/drive/MyDrive/Pneumonia-Detection/data/chest_xray'\n",
        "\n",
        "data=[]\n",
        "\n",
        "for folder in ['train','val','test']:\n",
        "  folder_path=os.path.join(base_dir,folder)\n",
        "\n",
        "  for label in os.listdir(folder_path):\n",
        "    label_path= os.path.join(folder_path,label)\n",
        "\n",
        "    for filename in os.listdir(label_path):\n",
        "      file_path=os.path.join(label_path,filename)\n",
        "\n",
        "      # Assign fine-grained label based on filename\n",
        "\n",
        "      if label == \"NORMAL\":\n",
        "          true_label = \"NORMAL\"\n",
        "      elif \"bacteria\" in filename.lower():\n",
        "          true_label = \"BACTERIAL_PNEUMONIA\"\n",
        "      elif \"virus\" in filename.lower():\n",
        "          true_label = \"VIRAL_PNEUMONIA\"\n",
        "      else:\n",
        "        true_label = \"UNKNOWN\"\n",
        "\n",
        "\n",
        "      data.append([file_path, true_label, folder])  # Add set info too\n",
        "\n",
        "\n",
        "\n",
        "df = pd.DataFrame(data, columns=[\"filepath\", \"label\", \"set\"])\n",
        "df.head()\n",
        "\n",
        "\n",
        "\n"
      ],
      "metadata": {
        "id": "ghgVCIM_Rrsy",
        "colab": {
          "base_uri": "https://localhost:8080/",
          "height": 206
        },
        "outputId": "cda6d5e8-b059-4ffe-cac8-daef37e8c510"
      },
      "execution_count": null,
      "outputs": [
        {
          "output_type": "execute_result",
          "data": {
            "text/plain": [
              "                                            filepath   label    set\n",
              "0  /content/drive/MyDrive/Pneumonia-Detection/dat...  NORMAL  train\n",
              "1  /content/drive/MyDrive/Pneumonia-Detection/dat...  NORMAL  train\n",
              "2  /content/drive/MyDrive/Pneumonia-Detection/dat...  NORMAL  train\n",
              "3  /content/drive/MyDrive/Pneumonia-Detection/dat...  NORMAL  train\n",
              "4  /content/drive/MyDrive/Pneumonia-Detection/dat...  NORMAL  train"
            ],
            "text/html": [
              "\n",
              "  <div id=\"df-b0491a75-6699-40a4-9fe2-de0bf4a65e32\" class=\"colab-df-container\">\n",
              "    <div>\n",
              "<style scoped>\n",
              "    .dataframe tbody tr th:only-of-type {\n",
              "        vertical-align: middle;\n",
              "    }\n",
              "\n",
              "    .dataframe tbody tr th {\n",
              "        vertical-align: top;\n",
              "    }\n",
              "\n",
              "    .dataframe thead th {\n",
              "        text-align: right;\n",
              "    }\n",
              "</style>\n",
              "<table border=\"1\" class=\"dataframe\">\n",
              "  <thead>\n",
              "    <tr style=\"text-align: right;\">\n",
              "      <th></th>\n",
              "      <th>filepath</th>\n",
              "      <th>label</th>\n",
              "      <th>set</th>\n",
              "    </tr>\n",
              "  </thead>\n",
              "  <tbody>\n",
              "    <tr>\n",
              "      <th>0</th>\n",
              "      <td>/content/drive/MyDrive/Pneumonia-Detection/dat...</td>\n",
              "      <td>NORMAL</td>\n",
              "      <td>train</td>\n",
              "    </tr>\n",
              "    <tr>\n",
              "      <th>1</th>\n",
              "      <td>/content/drive/MyDrive/Pneumonia-Detection/dat...</td>\n",
              "      <td>NORMAL</td>\n",
              "      <td>train</td>\n",
              "    </tr>\n",
              "    <tr>\n",
              "      <th>2</th>\n",
              "      <td>/content/drive/MyDrive/Pneumonia-Detection/dat...</td>\n",
              "      <td>NORMAL</td>\n",
              "      <td>train</td>\n",
              "    </tr>\n",
              "    <tr>\n",
              "      <th>3</th>\n",
              "      <td>/content/drive/MyDrive/Pneumonia-Detection/dat...</td>\n",
              "      <td>NORMAL</td>\n",
              "      <td>train</td>\n",
              "    </tr>\n",
              "    <tr>\n",
              "      <th>4</th>\n",
              "      <td>/content/drive/MyDrive/Pneumonia-Detection/dat...</td>\n",
              "      <td>NORMAL</td>\n",
              "      <td>train</td>\n",
              "    </tr>\n",
              "  </tbody>\n",
              "</table>\n",
              "</div>\n",
              "    <div class=\"colab-df-buttons\">\n",
              "\n",
              "  <div class=\"colab-df-container\">\n",
              "    <button class=\"colab-df-convert\" onclick=\"convertToInteractive('df-b0491a75-6699-40a4-9fe2-de0bf4a65e32')\"\n",
              "            title=\"Convert this dataframe to an interactive table.\"\n",
              "            style=\"display:none;\">\n",
              "\n",
              "  <svg xmlns=\"http://www.w3.org/2000/svg\" height=\"24px\" viewBox=\"0 -960 960 960\">\n",
              "    <path d=\"M120-120v-720h720v720H120Zm60-500h600v-160H180v160Zm220 220h160v-160H400v160Zm0 220h160v-160H400v160ZM180-400h160v-160H180v160Zm440 0h160v-160H620v160ZM180-180h160v-160H180v160Zm440 0h160v-160H620v160Z\"/>\n",
              "  </svg>\n",
              "    </button>\n",
              "\n",
              "  <style>\n",
              "    .colab-df-container {\n",
              "      display:flex;\n",
              "      gap: 12px;\n",
              "    }\n",
              "\n",
              "    .colab-df-convert {\n",
              "      background-color: #E8F0FE;\n",
              "      border: none;\n",
              "      border-radius: 50%;\n",
              "      cursor: pointer;\n",
              "      display: none;\n",
              "      fill: #1967D2;\n",
              "      height: 32px;\n",
              "      padding: 0 0 0 0;\n",
              "      width: 32px;\n",
              "    }\n",
              "\n",
              "    .colab-df-convert:hover {\n",
              "      background-color: #E2EBFA;\n",
              "      box-shadow: 0px 1px 2px rgba(60, 64, 67, 0.3), 0px 1px 3px 1px rgba(60, 64, 67, 0.15);\n",
              "      fill: #174EA6;\n",
              "    }\n",
              "\n",
              "    .colab-df-buttons div {\n",
              "      margin-bottom: 4px;\n",
              "    }\n",
              "\n",
              "    [theme=dark] .colab-df-convert {\n",
              "      background-color: #3B4455;\n",
              "      fill: #D2E3FC;\n",
              "    }\n",
              "\n",
              "    [theme=dark] .colab-df-convert:hover {\n",
              "      background-color: #434B5C;\n",
              "      box-shadow: 0px 1px 3px 1px rgba(0, 0, 0, 0.15);\n",
              "      filter: drop-shadow(0px 1px 2px rgba(0, 0, 0, 0.3));\n",
              "      fill: #FFFFFF;\n",
              "    }\n",
              "  </style>\n",
              "\n",
              "    <script>\n",
              "      const buttonEl =\n",
              "        document.querySelector('#df-b0491a75-6699-40a4-9fe2-de0bf4a65e32 button.colab-df-convert');\n",
              "      buttonEl.style.display =\n",
              "        google.colab.kernel.accessAllowed ? 'block' : 'none';\n",
              "\n",
              "      async function convertToInteractive(key) {\n",
              "        const element = document.querySelector('#df-b0491a75-6699-40a4-9fe2-de0bf4a65e32');\n",
              "        const dataTable =\n",
              "          await google.colab.kernel.invokeFunction('convertToInteractive',\n",
              "                                                    [key], {});\n",
              "        if (!dataTable) return;\n",
              "\n",
              "        const docLinkHtml = 'Like what you see? Visit the ' +\n",
              "          '<a target=\"_blank\" href=https://colab.research.google.com/notebooks/data_table.ipynb>data table notebook</a>'\n",
              "          + ' to learn more about interactive tables.';\n",
              "        element.innerHTML = '';\n",
              "        dataTable['output_type'] = 'display_data';\n",
              "        await google.colab.output.renderOutput(dataTable, element);\n",
              "        const docLink = document.createElement('div');\n",
              "        docLink.innerHTML = docLinkHtml;\n",
              "        element.appendChild(docLink);\n",
              "      }\n",
              "    </script>\n",
              "  </div>\n",
              "\n",
              "\n",
              "    <div id=\"df-9f0daabb-8135-49d0-89ae-cf652db6e717\">\n",
              "      <button class=\"colab-df-quickchart\" onclick=\"quickchart('df-9f0daabb-8135-49d0-89ae-cf652db6e717')\"\n",
              "                title=\"Suggest charts\"\n",
              "                style=\"display:none;\">\n",
              "\n",
              "<svg xmlns=\"http://www.w3.org/2000/svg\" height=\"24px\"viewBox=\"0 0 24 24\"\n",
              "     width=\"24px\">\n",
              "    <g>\n",
              "        <path d=\"M19 3H5c-1.1 0-2 .9-2 2v14c0 1.1.9 2 2 2h14c1.1 0 2-.9 2-2V5c0-1.1-.9-2-2-2zM9 17H7v-7h2v7zm4 0h-2V7h2v10zm4 0h-2v-4h2v4z\"/>\n",
              "    </g>\n",
              "</svg>\n",
              "      </button>\n",
              "\n",
              "<style>\n",
              "  .colab-df-quickchart {\n",
              "      --bg-color: #E8F0FE;\n",
              "      --fill-color: #1967D2;\n",
              "      --hover-bg-color: #E2EBFA;\n",
              "      --hover-fill-color: #174EA6;\n",
              "      --disabled-fill-color: #AAA;\n",
              "      --disabled-bg-color: #DDD;\n",
              "  }\n",
              "\n",
              "  [theme=dark] .colab-df-quickchart {\n",
              "      --bg-color: #3B4455;\n",
              "      --fill-color: #D2E3FC;\n",
              "      --hover-bg-color: #434B5C;\n",
              "      --hover-fill-color: #FFFFFF;\n",
              "      --disabled-bg-color: #3B4455;\n",
              "      --disabled-fill-color: #666;\n",
              "  }\n",
              "\n",
              "  .colab-df-quickchart {\n",
              "    background-color: var(--bg-color);\n",
              "    border: none;\n",
              "    border-radius: 50%;\n",
              "    cursor: pointer;\n",
              "    display: none;\n",
              "    fill: var(--fill-color);\n",
              "    height: 32px;\n",
              "    padding: 0;\n",
              "    width: 32px;\n",
              "  }\n",
              "\n",
              "  .colab-df-quickchart:hover {\n",
              "    background-color: var(--hover-bg-color);\n",
              "    box-shadow: 0 1px 2px rgba(60, 64, 67, 0.3), 0 1px 3px 1px rgba(60, 64, 67, 0.15);\n",
              "    fill: var(--button-hover-fill-color);\n",
              "  }\n",
              "\n",
              "  .colab-df-quickchart-complete:disabled,\n",
              "  .colab-df-quickchart-complete:disabled:hover {\n",
              "    background-color: var(--disabled-bg-color);\n",
              "    fill: var(--disabled-fill-color);\n",
              "    box-shadow: none;\n",
              "  }\n",
              "\n",
              "  .colab-df-spinner {\n",
              "    border: 2px solid var(--fill-color);\n",
              "    border-color: transparent;\n",
              "    border-bottom-color: var(--fill-color);\n",
              "    animation:\n",
              "      spin 1s steps(1) infinite;\n",
              "  }\n",
              "\n",
              "  @keyframes spin {\n",
              "    0% {\n",
              "      border-color: transparent;\n",
              "      border-bottom-color: var(--fill-color);\n",
              "      border-left-color: var(--fill-color);\n",
              "    }\n",
              "    20% {\n",
              "      border-color: transparent;\n",
              "      border-left-color: var(--fill-color);\n",
              "      border-top-color: var(--fill-color);\n",
              "    }\n",
              "    30% {\n",
              "      border-color: transparent;\n",
              "      border-left-color: var(--fill-color);\n",
              "      border-top-color: var(--fill-color);\n",
              "      border-right-color: var(--fill-color);\n",
              "    }\n",
              "    40% {\n",
              "      border-color: transparent;\n",
              "      border-right-color: var(--fill-color);\n",
              "      border-top-color: var(--fill-color);\n",
              "    }\n",
              "    60% {\n",
              "      border-color: transparent;\n",
              "      border-right-color: var(--fill-color);\n",
              "    }\n",
              "    80% {\n",
              "      border-color: transparent;\n",
              "      border-right-color: var(--fill-color);\n",
              "      border-bottom-color: var(--fill-color);\n",
              "    }\n",
              "    90% {\n",
              "      border-color: transparent;\n",
              "      border-bottom-color: var(--fill-color);\n",
              "    }\n",
              "  }\n",
              "</style>\n",
              "\n",
              "      <script>\n",
              "        async function quickchart(key) {\n",
              "          const quickchartButtonEl =\n",
              "            document.querySelector('#' + key + ' button');\n",
              "          quickchartButtonEl.disabled = true;  // To prevent multiple clicks.\n",
              "          quickchartButtonEl.classList.add('colab-df-spinner');\n",
              "          try {\n",
              "            const charts = await google.colab.kernel.invokeFunction(\n",
              "                'suggestCharts', [key], {});\n",
              "          } catch (error) {\n",
              "            console.error('Error during call to suggestCharts:', error);\n",
              "          }\n",
              "          quickchartButtonEl.classList.remove('colab-df-spinner');\n",
              "          quickchartButtonEl.classList.add('colab-df-quickchart-complete');\n",
              "        }\n",
              "        (() => {\n",
              "          let quickchartButtonEl =\n",
              "            document.querySelector('#df-9f0daabb-8135-49d0-89ae-cf652db6e717 button');\n",
              "          quickchartButtonEl.style.display =\n",
              "            google.colab.kernel.accessAllowed ? 'block' : 'none';\n",
              "        })();\n",
              "      </script>\n",
              "    </div>\n",
              "\n",
              "    </div>\n",
              "  </div>\n"
            ],
            "application/vnd.google.colaboratory.intrinsic+json": {
              "type": "dataframe",
              "variable_name": "df",
              "summary": "{\n  \"name\": \"df\",\n  \"rows\": 5856,\n  \"fields\": [\n    {\n      \"column\": \"filepath\",\n      \"properties\": {\n        \"dtype\": \"string\",\n        \"num_unique_values\": 5856,\n        \"samples\": [\n          \"/content/drive/MyDrive/Pneumonia-Detection/data/chest_xray/train/BACTERIAL_PNEUMONIA/person1320_bacteria_3352.jpeg\",\n          \"/content/drive/MyDrive/Pneumonia-Detection/data/chest_xray/train/VIRAL_PNEUMONIA/person311_virus_634.jpeg\",\n          \"/content/drive/MyDrive/Pneumonia-Detection/data/chest_xray/train/NORMAL/NORMAL2-IM-1328-0001.jpeg\"\n        ],\n        \"semantic_type\": \"\",\n        \"description\": \"\"\n      }\n    },\n    {\n      \"column\": \"label\",\n      \"properties\": {\n        \"dtype\": \"category\",\n        \"num_unique_values\": 3,\n        \"samples\": [\n          \"NORMAL\",\n          \"BACTERIAL_PNEUMONIA\",\n          \"VIRAL_PNEUMONIA\"\n        ],\n        \"semantic_type\": \"\",\n        \"description\": \"\"\n      }\n    },\n    {\n      \"column\": \"set\",\n      \"properties\": {\n        \"dtype\": \"category\",\n        \"num_unique_values\": 3,\n        \"samples\": [\n          \"train\",\n          \"val\",\n          \"test\"\n        ],\n        \"semantic_type\": \"\",\n        \"description\": \"\"\n      }\n    }\n  ]\n}"
            }
          },
          "metadata": {},
          "execution_count": 10
        }
      ]
    },
    {
      "cell_type": "code",
      "source": [
        "df.tail()"
      ],
      "metadata": {
        "colab": {
          "base_uri": "https://localhost:8080/",
          "height": 206
        },
        "id": "BMNb-8vYM-1N",
        "outputId": "f7b3b1d3-ac1b-4900-9d13-2d5e15e3682d"
      },
      "execution_count": null,
      "outputs": [
        {
          "output_type": "execute_result",
          "data": {
            "text/plain": [
              "                                               filepath            label   set\n",
              "5851  /content/drive/MyDrive/Pneumonia-Detection/dat...  VIRAL_PNEUMONIA  test\n",
              "5852  /content/drive/MyDrive/Pneumonia-Detection/dat...  VIRAL_PNEUMONIA  test\n",
              "5853  /content/drive/MyDrive/Pneumonia-Detection/dat...  VIRAL_PNEUMONIA  test\n",
              "5854  /content/drive/MyDrive/Pneumonia-Detection/dat...  VIRAL_PNEUMONIA  test\n",
              "5855  /content/drive/MyDrive/Pneumonia-Detection/dat...  VIRAL_PNEUMONIA  test"
            ],
            "text/html": [
              "\n",
              "  <div id=\"df-32a358d1-41f0-4a7c-b23e-d9a4dac0696c\" class=\"colab-df-container\">\n",
              "    <div>\n",
              "<style scoped>\n",
              "    .dataframe tbody tr th:only-of-type {\n",
              "        vertical-align: middle;\n",
              "    }\n",
              "\n",
              "    .dataframe tbody tr th {\n",
              "        vertical-align: top;\n",
              "    }\n",
              "\n",
              "    .dataframe thead th {\n",
              "        text-align: right;\n",
              "    }\n",
              "</style>\n",
              "<table border=\"1\" class=\"dataframe\">\n",
              "  <thead>\n",
              "    <tr style=\"text-align: right;\">\n",
              "      <th></th>\n",
              "      <th>filepath</th>\n",
              "      <th>label</th>\n",
              "      <th>set</th>\n",
              "    </tr>\n",
              "  </thead>\n",
              "  <tbody>\n",
              "    <tr>\n",
              "      <th>5851</th>\n",
              "      <td>/content/drive/MyDrive/Pneumonia-Detection/dat...</td>\n",
              "      <td>VIRAL_PNEUMONIA</td>\n",
              "      <td>test</td>\n",
              "    </tr>\n",
              "    <tr>\n",
              "      <th>5852</th>\n",
              "      <td>/content/drive/MyDrive/Pneumonia-Detection/dat...</td>\n",
              "      <td>VIRAL_PNEUMONIA</td>\n",
              "      <td>test</td>\n",
              "    </tr>\n",
              "    <tr>\n",
              "      <th>5853</th>\n",
              "      <td>/content/drive/MyDrive/Pneumonia-Detection/dat...</td>\n",
              "      <td>VIRAL_PNEUMONIA</td>\n",
              "      <td>test</td>\n",
              "    </tr>\n",
              "    <tr>\n",
              "      <th>5854</th>\n",
              "      <td>/content/drive/MyDrive/Pneumonia-Detection/dat...</td>\n",
              "      <td>VIRAL_PNEUMONIA</td>\n",
              "      <td>test</td>\n",
              "    </tr>\n",
              "    <tr>\n",
              "      <th>5855</th>\n",
              "      <td>/content/drive/MyDrive/Pneumonia-Detection/dat...</td>\n",
              "      <td>VIRAL_PNEUMONIA</td>\n",
              "      <td>test</td>\n",
              "    </tr>\n",
              "  </tbody>\n",
              "</table>\n",
              "</div>\n",
              "    <div class=\"colab-df-buttons\">\n",
              "\n",
              "  <div class=\"colab-df-container\">\n",
              "    <button class=\"colab-df-convert\" onclick=\"convertToInteractive('df-32a358d1-41f0-4a7c-b23e-d9a4dac0696c')\"\n",
              "            title=\"Convert this dataframe to an interactive table.\"\n",
              "            style=\"display:none;\">\n",
              "\n",
              "  <svg xmlns=\"http://www.w3.org/2000/svg\" height=\"24px\" viewBox=\"0 -960 960 960\">\n",
              "    <path d=\"M120-120v-720h720v720H120Zm60-500h600v-160H180v160Zm220 220h160v-160H400v160Zm0 220h160v-160H400v160ZM180-400h160v-160H180v160Zm440 0h160v-160H620v160ZM180-180h160v-160H180v160Zm440 0h160v-160H620v160Z\"/>\n",
              "  </svg>\n",
              "    </button>\n",
              "\n",
              "  <style>\n",
              "    .colab-df-container {\n",
              "      display:flex;\n",
              "      gap: 12px;\n",
              "    }\n",
              "\n",
              "    .colab-df-convert {\n",
              "      background-color: #E8F0FE;\n",
              "      border: none;\n",
              "      border-radius: 50%;\n",
              "      cursor: pointer;\n",
              "      display: none;\n",
              "      fill: #1967D2;\n",
              "      height: 32px;\n",
              "      padding: 0 0 0 0;\n",
              "      width: 32px;\n",
              "    }\n",
              "\n",
              "    .colab-df-convert:hover {\n",
              "      background-color: #E2EBFA;\n",
              "      box-shadow: 0px 1px 2px rgba(60, 64, 67, 0.3), 0px 1px 3px 1px rgba(60, 64, 67, 0.15);\n",
              "      fill: #174EA6;\n",
              "    }\n",
              "\n",
              "    .colab-df-buttons div {\n",
              "      margin-bottom: 4px;\n",
              "    }\n",
              "\n",
              "    [theme=dark] .colab-df-convert {\n",
              "      background-color: #3B4455;\n",
              "      fill: #D2E3FC;\n",
              "    }\n",
              "\n",
              "    [theme=dark] .colab-df-convert:hover {\n",
              "      background-color: #434B5C;\n",
              "      box-shadow: 0px 1px 3px 1px rgba(0, 0, 0, 0.15);\n",
              "      filter: drop-shadow(0px 1px 2px rgba(0, 0, 0, 0.3));\n",
              "      fill: #FFFFFF;\n",
              "    }\n",
              "  </style>\n",
              "\n",
              "    <script>\n",
              "      const buttonEl =\n",
              "        document.querySelector('#df-32a358d1-41f0-4a7c-b23e-d9a4dac0696c button.colab-df-convert');\n",
              "      buttonEl.style.display =\n",
              "        google.colab.kernel.accessAllowed ? 'block' : 'none';\n",
              "\n",
              "      async function convertToInteractive(key) {\n",
              "        const element = document.querySelector('#df-32a358d1-41f0-4a7c-b23e-d9a4dac0696c');\n",
              "        const dataTable =\n",
              "          await google.colab.kernel.invokeFunction('convertToInteractive',\n",
              "                                                    [key], {});\n",
              "        if (!dataTable) return;\n",
              "\n",
              "        const docLinkHtml = 'Like what you see? Visit the ' +\n",
              "          '<a target=\"_blank\" href=https://colab.research.google.com/notebooks/data_table.ipynb>data table notebook</a>'\n",
              "          + ' to learn more about interactive tables.';\n",
              "        element.innerHTML = '';\n",
              "        dataTable['output_type'] = 'display_data';\n",
              "        await google.colab.output.renderOutput(dataTable, element);\n",
              "        const docLink = document.createElement('div');\n",
              "        docLink.innerHTML = docLinkHtml;\n",
              "        element.appendChild(docLink);\n",
              "      }\n",
              "    </script>\n",
              "  </div>\n",
              "\n",
              "\n",
              "    <div id=\"df-4b2856ab-fd85-4982-bbde-db724cb1088a\">\n",
              "      <button class=\"colab-df-quickchart\" onclick=\"quickchart('df-4b2856ab-fd85-4982-bbde-db724cb1088a')\"\n",
              "                title=\"Suggest charts\"\n",
              "                style=\"display:none;\">\n",
              "\n",
              "<svg xmlns=\"http://www.w3.org/2000/svg\" height=\"24px\"viewBox=\"0 0 24 24\"\n",
              "     width=\"24px\">\n",
              "    <g>\n",
              "        <path d=\"M19 3H5c-1.1 0-2 .9-2 2v14c0 1.1.9 2 2 2h14c1.1 0 2-.9 2-2V5c0-1.1-.9-2-2-2zM9 17H7v-7h2v7zm4 0h-2V7h2v10zm4 0h-2v-4h2v4z\"/>\n",
              "    </g>\n",
              "</svg>\n",
              "      </button>\n",
              "\n",
              "<style>\n",
              "  .colab-df-quickchart {\n",
              "      --bg-color: #E8F0FE;\n",
              "      --fill-color: #1967D2;\n",
              "      --hover-bg-color: #E2EBFA;\n",
              "      --hover-fill-color: #174EA6;\n",
              "      --disabled-fill-color: #AAA;\n",
              "      --disabled-bg-color: #DDD;\n",
              "  }\n",
              "\n",
              "  [theme=dark] .colab-df-quickchart {\n",
              "      --bg-color: #3B4455;\n",
              "      --fill-color: #D2E3FC;\n",
              "      --hover-bg-color: #434B5C;\n",
              "      --hover-fill-color: #FFFFFF;\n",
              "      --disabled-bg-color: #3B4455;\n",
              "      --disabled-fill-color: #666;\n",
              "  }\n",
              "\n",
              "  .colab-df-quickchart {\n",
              "    background-color: var(--bg-color);\n",
              "    border: none;\n",
              "    border-radius: 50%;\n",
              "    cursor: pointer;\n",
              "    display: none;\n",
              "    fill: var(--fill-color);\n",
              "    height: 32px;\n",
              "    padding: 0;\n",
              "    width: 32px;\n",
              "  }\n",
              "\n",
              "  .colab-df-quickchart:hover {\n",
              "    background-color: var(--hover-bg-color);\n",
              "    box-shadow: 0 1px 2px rgba(60, 64, 67, 0.3), 0 1px 3px 1px rgba(60, 64, 67, 0.15);\n",
              "    fill: var(--button-hover-fill-color);\n",
              "  }\n",
              "\n",
              "  .colab-df-quickchart-complete:disabled,\n",
              "  .colab-df-quickchart-complete:disabled:hover {\n",
              "    background-color: var(--disabled-bg-color);\n",
              "    fill: var(--disabled-fill-color);\n",
              "    box-shadow: none;\n",
              "  }\n",
              "\n",
              "  .colab-df-spinner {\n",
              "    border: 2px solid var(--fill-color);\n",
              "    border-color: transparent;\n",
              "    border-bottom-color: var(--fill-color);\n",
              "    animation:\n",
              "      spin 1s steps(1) infinite;\n",
              "  }\n",
              "\n",
              "  @keyframes spin {\n",
              "    0% {\n",
              "      border-color: transparent;\n",
              "      border-bottom-color: var(--fill-color);\n",
              "      border-left-color: var(--fill-color);\n",
              "    }\n",
              "    20% {\n",
              "      border-color: transparent;\n",
              "      border-left-color: var(--fill-color);\n",
              "      border-top-color: var(--fill-color);\n",
              "    }\n",
              "    30% {\n",
              "      border-color: transparent;\n",
              "      border-left-color: var(--fill-color);\n",
              "      border-top-color: var(--fill-color);\n",
              "      border-right-color: var(--fill-color);\n",
              "    }\n",
              "    40% {\n",
              "      border-color: transparent;\n",
              "      border-right-color: var(--fill-color);\n",
              "      border-top-color: var(--fill-color);\n",
              "    }\n",
              "    60% {\n",
              "      border-color: transparent;\n",
              "      border-right-color: var(--fill-color);\n",
              "    }\n",
              "    80% {\n",
              "      border-color: transparent;\n",
              "      border-right-color: var(--fill-color);\n",
              "      border-bottom-color: var(--fill-color);\n",
              "    }\n",
              "    90% {\n",
              "      border-color: transparent;\n",
              "      border-bottom-color: var(--fill-color);\n",
              "    }\n",
              "  }\n",
              "</style>\n",
              "\n",
              "      <script>\n",
              "        async function quickchart(key) {\n",
              "          const quickchartButtonEl =\n",
              "            document.querySelector('#' + key + ' button');\n",
              "          quickchartButtonEl.disabled = true;  // To prevent multiple clicks.\n",
              "          quickchartButtonEl.classList.add('colab-df-spinner');\n",
              "          try {\n",
              "            const charts = await google.colab.kernel.invokeFunction(\n",
              "                'suggestCharts', [key], {});\n",
              "          } catch (error) {\n",
              "            console.error('Error during call to suggestCharts:', error);\n",
              "          }\n",
              "          quickchartButtonEl.classList.remove('colab-df-spinner');\n",
              "          quickchartButtonEl.classList.add('colab-df-quickchart-complete');\n",
              "        }\n",
              "        (() => {\n",
              "          let quickchartButtonEl =\n",
              "            document.querySelector('#df-4b2856ab-fd85-4982-bbde-db724cb1088a button');\n",
              "          quickchartButtonEl.style.display =\n",
              "            google.colab.kernel.accessAllowed ? 'block' : 'none';\n",
              "        })();\n",
              "      </script>\n",
              "    </div>\n",
              "\n",
              "    </div>\n",
              "  </div>\n"
            ],
            "application/vnd.google.colaboratory.intrinsic+json": {
              "type": "dataframe",
              "summary": "{\n  \"name\": \"df\",\n  \"rows\": 5,\n  \"fields\": [\n    {\n      \"column\": \"filepath\",\n      \"properties\": {\n        \"dtype\": \"string\",\n        \"num_unique_values\": 5,\n        \"samples\": [\n          \"/content/drive/MyDrive/Pneumonia-Detection/data/chest_xray/test/VIRAL_PNEUMONIA/person78_virus_140.jpeg\",\n          \"/content/drive/MyDrive/Pneumonia-Detection/data/chest_xray/test/VIRAL_PNEUMONIA/person8_virus_28.jpeg\",\n          \"/content/drive/MyDrive/Pneumonia-Detection/data/chest_xray/test/VIRAL_PNEUMONIA/person79_virus_148.jpeg\"\n        ],\n        \"semantic_type\": \"\",\n        \"description\": \"\"\n      }\n    },\n    {\n      \"column\": \"label\",\n      \"properties\": {\n        \"dtype\": \"category\",\n        \"num_unique_values\": 1,\n        \"samples\": [\n          \"VIRAL_PNEUMONIA\"\n        ],\n        \"semantic_type\": \"\",\n        \"description\": \"\"\n      }\n    },\n    {\n      \"column\": \"set\",\n      \"properties\": {\n        \"dtype\": \"category\",\n        \"num_unique_values\": 1,\n        \"samples\": [\n          \"test\"\n        ],\n        \"semantic_type\": \"\",\n        \"description\": \"\"\n      }\n    }\n  ]\n}"
            }
          },
          "metadata": {},
          "execution_count": 11
        }
      ]
    },
    {
      "cell_type": "markdown",
      "source": [
        "# ***Label Encoding***"
      ],
      "metadata": {
        "id": "r0M2PUzuV40p"
      }
    },
    {
      "cell_type": "code",
      "source": [
        "from sklearn.preprocessing import LabelEncoder\n",
        "\n",
        "# Recreate original string labels from the 'data' list\n",
        "labels_str = [row[1] for row in data]  # true_label was at index 1\n",
        "\n",
        "# New encoder, fit on actual strings\n",
        "label_encoder = LabelEncoder()\n",
        "label_encoder.fit(labels_str)\n",
        "\n",
        "# Label → ID\n",
        "label_mapping = {label: int(id_) for label, id_ in zip(label_encoder.classes_, label_encoder.transform(label_encoder.classes_))}\n",
        "\n",
        "# ID → Label\n",
        "inverse_mapping = {v: k for k, v in label_mapping.items()}\n",
        "\n",
        "print(\"Label Mapping:\", label_mapping)\n",
        "print(\"Inverse Mapping:\", inverse_mapping)\n"
      ],
      "metadata": {
        "colab": {
          "base_uri": "https://localhost:8080/"
        },
        "id": "klJo3FjOOqmO",
        "outputId": "fe41f167-5fae-499a-fb2a-c17f07180240"
      },
      "execution_count": null,
      "outputs": [
        {
          "output_type": "stream",
          "name": "stdout",
          "text": [
            "Label Mapping: {np.str_('BACTERIAL_PNEUMONIA'): 0, np.str_('NORMAL'): 1, np.str_('VIRAL_PNEUMONIA'): 2}\n",
            "Inverse Mapping: {0: np.str_('BACTERIAL_PNEUMONIA'), 1: np.str_('NORMAL'), 2: np.str_('VIRAL_PNEUMONIA')}\n"
          ]
        }
      ]
    },
    {
      "cell_type": "markdown",
      "source": [
        "# ***Code to Split the DataFrame***\n",
        "\n"
      ],
      "metadata": {
        "id": "4HxCP50lZh3H"
      }
    },
    {
      "cell_type": "code",
      "source": [],
      "metadata": {
        "id": "mNHUaNy6ZviR"
      },
      "execution_count": null,
      "outputs": []
    },
    {
      "cell_type": "code",
      "source": [
        "from sklearn.model_selection import train_test_split\n",
        "\n",
        "# Step 1: Train/test split (70% train, 30% temp)\n",
        "train_df, temp_df = train_test_split(\n",
        "    df,\n",
        "    test_size=0.3,\n",
        "    stratify=df['label'],\n",
        "    random_state=42\n",
        ")\n",
        "\n",
        "# Step 2: Split temp into validation and test (15% each)\n",
        "val_df, test_df = train_test_split(\n",
        "    temp_df,\n",
        "    test_size=0.5,\n",
        "    stratify=temp_df['label'],\n",
        "    random_state=42\n",
        ")\n",
        "\n",
        "# ✅ Check class balance\n",
        "print(\"Train:\\n\", train_df['label'].value_counts())\n",
        "print(\"\\nValidation:\\n\", val_df['label'].value_counts())\n",
        "print(\"\\nTest:\\n\", test_df['label'].value_counts())\n"
      ],
      "metadata": {
        "colab": {
          "base_uri": "https://localhost:8080/"
        },
        "id": "hV_z4MHYQ0ml",
        "outputId": "5a41be02-fceb-450e-b3c0-31920dbb1b67"
      },
      "execution_count": null,
      "outputs": [
        {
          "output_type": "stream",
          "name": "stdout",
          "text": [
            "Train:\n",
            " label\n",
            "BACTERIAL_PNEUMONIA    1946\n",
            "NORMAL                 1108\n",
            "VIRAL_PNEUMONIA        1045\n",
            "Name: count, dtype: int64\n",
            "\n",
            "Validation:\n",
            " label\n",
            "BACTERIAL_PNEUMONIA    417\n",
            "NORMAL                 237\n",
            "VIRAL_PNEUMONIA        224\n",
            "Name: count, dtype: int64\n",
            "\n",
            "Test:\n",
            " label\n",
            "BACTERIAL_PNEUMONIA    417\n",
            "NORMAL                 238\n",
            "VIRAL_PNEUMONIA        224\n",
            "Name: count, dtype: int64\n"
          ]
        }
      ]
    },
    {
      "cell_type": "markdown",
      "source": [
        "IMP CONCEPT / validation mai initially only 2 classes jo aage jaake pose karenge challenge for we have this 3 class model"
      ],
      "metadata": {
        "id": "lGoR7R83RATn"
      }
    },
    {
      "cell_type": "markdown",
      "source": [
        "![image.png](data:image/png;base64,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)"
      ],
      "metadata": {
        "id": "HkK5qp8OQ73R"
      }
    },
    {
      "cell_type": "markdown",
      "source": [
        "# ***Create Data Generators from train_df, val_df, test_df***"
      ],
      "metadata": {
        "id": "ONVl34pGdlaI"
      }
    },
    {
      "cell_type": "code",
      "source": [
        "!pip install tensorflow"
      ],
      "metadata": {
        "colab": {
          "base_uri": "https://localhost:8080/"
        },
        "id": "-B2oSgzXmoZp",
        "outputId": "a4401e5e-c903-423c-f01b-9aa0ae7eded2"
      },
      "execution_count": null,
      "outputs": [
        {
          "output_type": "stream",
          "name": "stdout",
          "text": [
            "Requirement already satisfied: tensorflow in /usr/local/lib/python3.11/dist-packages (2.18.0)\n",
            "Requirement already satisfied: absl-py>=1.0.0 in /usr/local/lib/python3.11/dist-packages (from tensorflow) (1.4.0)\n",
            "Requirement already satisfied: astunparse>=1.6.0 in /usr/local/lib/python3.11/dist-packages (from tensorflow) (1.6.3)\n",
            "Requirement already satisfied: flatbuffers>=24.3.25 in /usr/local/lib/python3.11/dist-packages (from tensorflow) (25.2.10)\n",
            "Requirement already satisfied: gast!=0.5.0,!=0.5.1,!=0.5.2,>=0.2.1 in /usr/local/lib/python3.11/dist-packages (from tensorflow) (0.6.0)\n",
            "Requirement already satisfied: google-pasta>=0.1.1 in /usr/local/lib/python3.11/dist-packages (from tensorflow) (0.2.0)\n",
            "Requirement already satisfied: libclang>=13.0.0 in /usr/local/lib/python3.11/dist-packages (from tensorflow) (18.1.1)\n",
            "Requirement already satisfied: opt-einsum>=2.3.2 in /usr/local/lib/python3.11/dist-packages (from tensorflow) (3.4.0)\n",
            "Requirement already satisfied: packaging in /usr/local/lib/python3.11/dist-packages (from tensorflow) (24.2)\n",
            "Requirement already satisfied: protobuf!=4.21.0,!=4.21.1,!=4.21.2,!=4.21.3,!=4.21.4,!=4.21.5,<6.0.0dev,>=3.20.3 in /usr/local/lib/python3.11/dist-packages (from tensorflow) (5.29.5)\n",
            "Requirement already satisfied: requests<3,>=2.21.0 in /usr/local/lib/python3.11/dist-packages (from tensorflow) (2.32.3)\n",
            "Requirement already satisfied: setuptools in /usr/local/lib/python3.11/dist-packages (from tensorflow) (75.2.0)\n",
            "Requirement already satisfied: six>=1.12.0 in /usr/local/lib/python3.11/dist-packages (from tensorflow) (1.17.0)\n",
            "Requirement already satisfied: termcolor>=1.1.0 in /usr/local/lib/python3.11/dist-packages (from tensorflow) (3.1.0)\n",
            "Requirement already satisfied: typing-extensions>=3.6.6 in /usr/local/lib/python3.11/dist-packages (from tensorflow) (4.14.1)\n",
            "Requirement already satisfied: wrapt>=1.11.0 in /usr/local/lib/python3.11/dist-packages (from tensorflow) (1.17.2)\n",
            "Requirement already satisfied: grpcio<2.0,>=1.24.3 in /usr/local/lib/python3.11/dist-packages (from tensorflow) (1.73.1)\n",
            "Requirement already satisfied: tensorboard<2.19,>=2.18 in /usr/local/lib/python3.11/dist-packages (from tensorflow) (2.18.0)\n",
            "Requirement already satisfied: keras>=3.5.0 in /usr/local/lib/python3.11/dist-packages (from tensorflow) (3.8.0)\n",
            "Requirement already satisfied: numpy<2.1.0,>=1.26.0 in /usr/local/lib/python3.11/dist-packages (from tensorflow) (2.0.2)\n",
            "Requirement already satisfied: h5py>=3.11.0 in /usr/local/lib/python3.11/dist-packages (from tensorflow) (3.14.0)\n",
            "Requirement already satisfied: ml-dtypes<0.5.0,>=0.4.0 in /usr/local/lib/python3.11/dist-packages (from tensorflow) (0.4.1)\n",
            "Requirement already satisfied: tensorflow-io-gcs-filesystem>=0.23.1 in /usr/local/lib/python3.11/dist-packages (from tensorflow) (0.37.1)\n",
            "Requirement already satisfied: wheel<1.0,>=0.23.0 in /usr/local/lib/python3.11/dist-packages (from astunparse>=1.6.0->tensorflow) (0.45.1)\n",
            "Requirement already satisfied: rich in /usr/local/lib/python3.11/dist-packages (from keras>=3.5.0->tensorflow) (13.9.4)\n",
            "Requirement already satisfied: namex in /usr/local/lib/python3.11/dist-packages (from keras>=3.5.0->tensorflow) (0.1.0)\n",
            "Requirement already satisfied: optree in /usr/local/lib/python3.11/dist-packages (from keras>=3.5.0->tensorflow) (0.16.0)\n",
            "Requirement already satisfied: charset-normalizer<4,>=2 in /usr/local/lib/python3.11/dist-packages (from requests<3,>=2.21.0->tensorflow) (3.4.2)\n",
            "Requirement already satisfied: idna<4,>=2.5 in /usr/local/lib/python3.11/dist-packages (from requests<3,>=2.21.0->tensorflow) (3.10)\n",
            "Requirement already satisfied: urllib3<3,>=1.21.1 in /usr/local/lib/python3.11/dist-packages (from requests<3,>=2.21.0->tensorflow) (2.4.0)\n",
            "Requirement already satisfied: certifi>=2017.4.17 in /usr/local/lib/python3.11/dist-packages (from requests<3,>=2.21.0->tensorflow) (2025.6.15)\n",
            "Requirement already satisfied: markdown>=2.6.8 in /usr/local/lib/python3.11/dist-packages (from tensorboard<2.19,>=2.18->tensorflow) (3.8.2)\n",
            "Requirement already satisfied: tensorboard-data-server<0.8.0,>=0.7.0 in /usr/local/lib/python3.11/dist-packages (from tensorboard<2.19,>=2.18->tensorflow) (0.7.2)\n",
            "Requirement already satisfied: werkzeug>=1.0.1 in /usr/local/lib/python3.11/dist-packages (from tensorboard<2.19,>=2.18->tensorflow) (3.1.3)\n",
            "Requirement already satisfied: MarkupSafe>=2.1.1 in /usr/local/lib/python3.11/dist-packages (from werkzeug>=1.0.1->tensorboard<2.19,>=2.18->tensorflow) (3.0.2)\n",
            "Requirement already satisfied: markdown-it-py>=2.2.0 in /usr/local/lib/python3.11/dist-packages (from rich->keras>=3.5.0->tensorflow) (3.0.0)\n",
            "Requirement already satisfied: pygments<3.0.0,>=2.13.0 in /usr/local/lib/python3.11/dist-packages (from rich->keras>=3.5.0->tensorflow) (2.19.2)\n",
            "Requirement already satisfied: mdurl~=0.1 in /usr/local/lib/python3.11/dist-packages (from markdown-it-py>=2.2.0->rich->keras>=3.5.0->tensorflow) (0.1.2)\n"
          ]
        }
      ]
    },
    {
      "cell_type": "code",
      "source": [
        "from tensorflow.keras.preprocessing.image import ImageDataGenerator"
      ],
      "metadata": {
        "id": "SPilv7CCaE7c"
      },
      "execution_count": null,
      "outputs": []
    },
    {
      "cell_type": "code",
      "source": [
        "#creating the image generators\n",
        "\n",
        "train_datagen = ImageDataGenerator(rescale=1./255)\n",
        "val_datagen = ImageDataGenerator(rescale=1./255)\n",
        "test_datagen = ImageDataGenerator(rescale=1./255)"
      ],
      "metadata": {
        "id": "2jmJbOHndxdC"
      },
      "execution_count": null,
      "outputs": []
    },
    {
      "cell_type": "code",
      "source": [
        "# Use flow_from_dataframe to load images\n",
        "\n",
        "train_df['label'] = train_df['label'].astype(str)\n",
        "val_df['label'] = val_df['label'].astype(str)\n",
        "test_df['label'] = test_df['label'].astype(str)\n",
        "\n",
        "\n",
        "\n",
        "train_gen = train_datagen.flow_from_dataframe(\n",
        "    dataframe=train_df,\n",
        "    x_col='filepath',\n",
        "    y_col='label',\n",
        "    target_size=(180, 180),\n",
        "    batch_size=32,\n",
        "    class_mode='categorical',\n",
        "    shuffle=True,\n",
        ")\n",
        "\n",
        "\n",
        "\n",
        "val_gen = val_datagen.flow_from_dataframe(\n",
        "    dataframe=val_df,\n",
        "    x_col='filepath',\n",
        "    y_col='label',\n",
        "    target_size=(180, 180),\n",
        "    batch_size=32,\n",
        "    class_mode='categorical',\n",
        "    shuffle=False\n",
        ")\n",
        "\n",
        "test_gen = test_datagen.flow_from_dataframe(\n",
        "    dataframe=test_df,\n",
        "    x_col='filepath',\n",
        "    y_col='label',\n",
        "    target_size=(180, 180),\n",
        "    batch_size=32,\n",
        "    class_mode='categorical',\n",
        "    shuffle=False\n",
        ")\n",
        "\n"
      ],
      "metadata": {
        "colab": {
          "base_uri": "https://localhost:8080/"
        },
        "id": "_NOfXReNd6Y4",
        "outputId": "fc74f517-93d1-470c-d1d0-28b28a05b504"
      },
      "execution_count": null,
      "outputs": [
        {
          "output_type": "stream",
          "name": "stdout",
          "text": [
            "Found 4099 validated image filenames belonging to 3 classes.\n",
            "Found 878 validated image filenames belonging to 3 classes.\n",
            "Found 879 validated image filenames belonging to 3 classes.\n"
          ]
        }
      ]
    },
    {
      "cell_type": "markdown",
      "source": [
        "# ***Data Augmentation***\n"
      ],
      "metadata": {
        "id": "mdW7_D0OigfR"
      }
    },
    {
      "cell_type": "code",
      "source": [
        "from tensorflow.keras.preprocessing.image import ImageDataGenerator\n",
        "\n",
        "# 1. Augmentation for Training Data\n",
        "train_datagen = ImageDataGenerator(\n",
        "    rescale=1./255,\n",
        "    rotation_range=15,\n",
        "    width_shift_range=0.1,\n",
        "    height_shift_range=0.1,\n",
        "    shear_range=0.01,\n",
        "    zoom_range=[0.9, 1.25],\n",
        "    horizontal_flip=True,\n",
        "    fill_mode='nearest'\n",
        ")\n",
        "\n",
        "# 2. Validation & Test Data: Only Rescaling\n",
        "val_datagen = ImageDataGenerator(rescale=1./255)\n",
        "test_datagen = ImageDataGenerator(rescale=1./255)\n"
      ],
      "metadata": {
        "id": "iQ40e69Meojx"
      },
      "execution_count": null,
      "outputs": []
    },
    {
      "cell_type": "markdown",
      "source": [
        "![image.png](data:image/png;base64,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)"
      ],
      "metadata": {
        "id": "ZS4jDJ--BkXo"
      }
    },
    {
      "cell_type": "markdown",
      "source": [
        "# ***Add Class Weights in model.fit***"
      ],
      "metadata": {
        "id": "CxWRkwa6ix6P"
      }
    },
    {
      "cell_type": "code",
      "source": [
        "from sklearn.utils import class_weight\n",
        "import numpy as np\n",
        "\n",
        "class_weights = class_weight.compute_class_weight(\n",
        "    class_weight='balanced',                   # Use automatic balancing\n",
        "    classes=np.unique(train_df['label']),      # ['NORMAL', 'PNEUMONIA']\n",
        "    y=train_df['label']                        # Target variable\n",
        ")\n",
        "\n",
        "class_weights_dict = dict(enumerate(class_weights))\n"
      ],
      "metadata": {
        "id": "nsHET065ivq6"
      },
      "execution_count": null,
      "outputs": []
    },
    {
      "cell_type": "code",
      "source": [
        "# Assuming you've already defined these:\n",
        "# - train_datagen, val_datagen, test_datagen\n",
        "# - train_df, val_df, test_df\n",
        "# - Each df has columns: 'filepath' and 'label'\n",
        "\n",
        "from tensorflow.keras.preprocessing.image import ImageDataGenerator\n",
        "\n",
        "# Constants\n",
        "IMG_SIZE = (180, 180)\n",
        "BATCH_SIZE = 32\n",
        "\n",
        "# Training Generator (with augmentation)\n",
        "train_generator = train_datagen.flow_from_dataframe(\n",
        "    dataframe=train_df,\n",
        "    x_col='filepath',\n",
        "    y_col='label',\n",
        "    target_size=IMG_SIZE,\n",
        "    batch_size=BATCH_SIZE,\n",
        "    class_mode='categorical',\n",
        "    shuffle=True\n",
        ")\n",
        "\n",
        "# Validation Generator (no augmentation)\n",
        "val_generator = val_datagen.flow_from_dataframe(\n",
        "    dataframe=val_df,\n",
        "    x_col='filepath',\n",
        "    y_col='label',\n",
        "    target_size=IMG_SIZE,\n",
        "    batch_size=BATCH_SIZE,\n",
        "    class_mode='categorical',\n",
        "    shuffle=False\n",
        ")\n",
        "\n",
        "# Test Generator (no augmentation)\n",
        "test_generator = test_datagen.flow_from_dataframe(\n",
        "    dataframe=test_df,\n",
        "    x_col='filepath',\n",
        "    y_col='label',\n",
        "    target_size=IMG_SIZE,\n",
        "    batch_size=BATCH_SIZE,\n",
        "    class_mode='categorical',\n",
        "    shuffle=False\n",
        ")\n"
      ],
      "metadata": {
        "id": "szTcwI4Yizt-",
        "colab": {
          "base_uri": "https://localhost:8080/"
        },
        "outputId": "600fb77f-c5db-4631-8a56-0c57a482d079"
      },
      "execution_count": null,
      "outputs": [
        {
          "output_type": "stream",
          "name": "stdout",
          "text": [
            "Found 4099 validated image filenames belonging to 3 classes.\n",
            "Found 878 validated image filenames belonging to 3 classes.\n",
            "Found 879 validated image filenames belonging to 3 classes.\n"
          ]
        }
      ]
    },
    {
      "cell_type": "code",
      "source": [
        "# Check for null values in each dataframe\n",
        "print(\"🔍 Checking for missing values...\\n\")\n",
        "\n",
        "print(\"Train DF:\")\n",
        "print(train_df.isnull().sum())\n",
        "\n",
        "print(\"\\nValidation DF:\")\n",
        "print(val_df.isnull().sum())\n",
        "\n",
        "print(\"\\nTest DF:\")\n",
        "print(test_df.isnull().sum())\n"
      ],
      "metadata": {
        "colab": {
          "base_uri": "https://localhost:8080/"
        },
        "id": "aDVknyUoEcSW",
        "outputId": "3f5705d6-618e-4242-d1e3-ba8a0afab67e"
      },
      "execution_count": null,
      "outputs": [
        {
          "output_type": "stream",
          "name": "stdout",
          "text": [
            "🔍 Checking for missing values...\n",
            "\n",
            "Train DF:\n",
            "filepath    0\n",
            "label       0\n",
            "set         0\n",
            "dtype: int64\n",
            "\n",
            "Validation DF:\n",
            "filepath    0\n",
            "label       0\n",
            "set         0\n",
            "dtype: int64\n",
            "\n",
            "Test DF:\n",
            "filepath    0\n",
            "label       0\n",
            "set         0\n",
            "dtype: int64\n"
          ]
        }
      ]
    },
    {
      "cell_type": "code",
      "source": [
        "# Drop rows with any missing values in the entire DataFrame\n",
        "train_df.dropna(inplace=True)\n",
        "val_df.dropna(inplace=True)\n",
        "test_df.dropna(inplace=True)"
      ],
      "metadata": {
        "id": "iMLVD3VxE9JJ"
      },
      "execution_count": null,
      "outputs": []
    },
    {
      "cell_type": "markdown",
      "source": [
        "# ***MODEL FITTING***"
      ],
      "metadata": {
        "id": "lt1XU_NhKBsy"
      }
    },
    {
      "cell_type": "code",
      "source": [
        "import tensorflow as tf\n",
        "from tensorflow.keras.callbacks import EarlyStopping, ModelCheckpoint\n",
        "from tensorflow.keras.optimizers import Adam\n"
      ],
      "metadata": {
        "id": "X2OJv83rFPxZ"
      },
      "execution_count": null,
      "outputs": []
    },
    {
      "cell_type": "code",
      "source": [
        "from tensorflow.keras import layers, models\n",
        "\n",
        "model = models.Sequential([\n",
        "    layers.Conv2D(32, (3, 3), activation='relu', input_shape=(180, 180, 3)),\n",
        "    layers.MaxPooling2D(2, 2),\n",
        "    layers.BatchNormalization(),\n",
        "\n",
        "    layers.Conv2D(64, (3, 3), activation='relu'),\n",
        "    layers.MaxPooling2D(2, 2),\n",
        "    layers.BatchNormalization(),\n",
        "\n",
        "    layers.Conv2D(128, (3, 3), activation='relu'),\n",
        "    layers.MaxPooling2D(2, 2),\n",
        "    layers.BatchNormalization(),\n",
        "\n",
        "    layers.Flatten(),\n",
        "    layers.Dense(128, activation='relu'),\n",
        "    layers.Dropout(0.5),\n",
        "\n",
        "    layers.Dense(3, activation='softmax')  # ✅ 3 output neurons\n",
        "])\n"
      ],
      "metadata": {
        "colab": {
          "base_uri": "https://localhost:8080/"
        },
        "id": "f2irjh7dKMN2",
        "outputId": "499cd01b-cc19-4481-ef1d-7584071ac5a0"
      },
      "execution_count": null,
      "outputs": [
        {
          "output_type": "stream",
          "name": "stderr",
          "text": [
            "/usr/local/lib/python3.11/dist-packages/keras/src/layers/convolutional/base_conv.py:107: UserWarning: Do not pass an `input_shape`/`input_dim` argument to a layer. When using Sequential models, prefer using an `Input(shape)` object as the first layer in the model instead.\n",
            "  super().__init__(activity_regularizer=activity_regularizer, **kwargs)\n"
          ]
        }
      ]
    },
    {
      "cell_type": "code",
      "source": [
        "model.compile(\n",
        "    optimizer='adam',\n",
        "    loss='categorical_crossentropy',\n",
        "    metrics=['accuracy']\n",
        ")\n"
      ],
      "metadata": {
        "id": "3-Lw97aBOI9t"
      },
      "execution_count": null,
      "outputs": []
    },
    {
      "cell_type": "code",
      "source": [
        "\n",
        "from tensorflow.keras.callbacks import EarlyStopping, ModelCheckpoint\n",
        "\n",
        "early_stopping = EarlyStopping(\n",
        "    monitor='val_loss',\n",
        "    patience=10,\n",
        "    restore_best_weights=True,\n",
        "    verbose=1\n",
        ")\n",
        "\n",
        "# checkpoint = ModelCheckpoint(\n",
        "#     '/content/drive/MyDrive/Pneumonia-Detection/models/best_model.keras',  # Drive path\n",
        "#     save_best_only=True,\n",
        "#     monitor='val_loss',\n",
        "#     verbose=1\n",
        "# )\n",
        "\n"
      ],
      "metadata": {
        "id": "nWhj5j9rOMiD"
      },
      "execution_count": null,
      "outputs": []
    },
    {
      "cell_type": "code",
      "source": [
        "# history = model.fit(\n",
        "#     train_generator,\n",
        "#     validation_data=val_generator,\n",
        "#     class_weight=class_weights_dict,\n",
        "#     callbacks=[early_stopping, checkpoint],\n",
        "#     epochs=25\n",
        "# )\n"
      ],
      "metadata": {
        "id": "HBZNzITaOPhP"
      },
      "execution_count": null,
      "outputs": []
    },
    {
      "cell_type": "markdown",
      "source": [
        "***We downloaded the best model in our local file after saving in it drive***"
      ],
      "metadata": {
        "id": "zQ0ZcrXvYleE"
      }
    },
    {
      "cell_type": "code",
      "source": [
        "from tensorflow.keras.models import load_model\n",
        "\n",
        "# Path where you saved it (as per your earlier code)\n",
        "model_path = '/content/drive/MyDrive/Pneumonia-Detection/models/best_model.keras'\n",
        "\n",
        "# Try loading\n",
        "model = load_model(model_path)\n",
        "\n",
        "# Print summary to verify it's successfully loaded\n",
        "model.summary()\n"
      ],
      "metadata": {
        "id": "JECvNplGzfJ8",
        "colab": {
          "base_uri": "https://localhost:8080/",
          "height": 609
        },
        "outputId": "75dcf337-22f7-4c64-c255-b7e56ab18590"
      },
      "execution_count": null,
      "outputs": [
        {
          "output_type": "display_data",
          "data": {
            "text/plain": [
              "\u001b[1mModel: \"sequential\"\u001b[0m\n"
            ],
            "text/html": [
              "<pre style=\"white-space:pre;overflow-x:auto;line-height:normal;font-family:Menlo,'DejaVu Sans Mono',consolas,'Courier New',monospace\"><span style=\"font-weight: bold\">Model: \"sequential\"</span>\n",
              "</pre>\n"
            ]
          },
          "metadata": {}
        },
        {
          "output_type": "display_data",
          "data": {
            "text/plain": [
              "┏━━━━━━━━━━━━━━━━━━━━━━━━━━━━━━━━━┳━━━━━━━━━━━━━━━━━━━━━━━━┳━━━━━━━━━━━━━━━┓\n",
              "┃\u001b[1m \u001b[0m\u001b[1mLayer (type)                   \u001b[0m\u001b[1m \u001b[0m┃\u001b[1m \u001b[0m\u001b[1mOutput Shape          \u001b[0m\u001b[1m \u001b[0m┃\u001b[1m \u001b[0m\u001b[1m      Param #\u001b[0m\u001b[1m \u001b[0m┃\n",
              "┡━━━━━━━━━━━━━━━━━━━━━━━━━━━━━━━━━╇━━━━━━━━━━━━━━━━━━━━━━━━╇━━━━━━━━━━━━━━━┩\n",
              "│ conv2d (\u001b[38;5;33mConv2D\u001b[0m)                 │ (\u001b[38;5;45mNone\u001b[0m, \u001b[38;5;34m178\u001b[0m, \u001b[38;5;34m178\u001b[0m, \u001b[38;5;34m32\u001b[0m)   │           \u001b[38;5;34m896\u001b[0m │\n",
              "├─────────────────────────────────┼────────────────────────┼───────────────┤\n",
              "│ max_pooling2d (\u001b[38;5;33mMaxPooling2D\u001b[0m)    │ (\u001b[38;5;45mNone\u001b[0m, \u001b[38;5;34m89\u001b[0m, \u001b[38;5;34m89\u001b[0m, \u001b[38;5;34m32\u001b[0m)     │             \u001b[38;5;34m0\u001b[0m │\n",
              "├─────────────────────────────────┼────────────────────────┼───────────────┤\n",
              "│ batch_normalization             │ (\u001b[38;5;45mNone\u001b[0m, \u001b[38;5;34m89\u001b[0m, \u001b[38;5;34m89\u001b[0m, \u001b[38;5;34m32\u001b[0m)     │           \u001b[38;5;34m128\u001b[0m │\n",
              "│ (\u001b[38;5;33mBatchNormalization\u001b[0m)            │                        │               │\n",
              "├─────────────────────────────────┼────────────────────────┼───────────────┤\n",
              "│ conv2d_1 (\u001b[38;5;33mConv2D\u001b[0m)               │ (\u001b[38;5;45mNone\u001b[0m, \u001b[38;5;34m87\u001b[0m, \u001b[38;5;34m87\u001b[0m, \u001b[38;5;34m64\u001b[0m)     │        \u001b[38;5;34m18,496\u001b[0m │\n",
              "├─────────────────────────────────┼────────────────────────┼───────────────┤\n",
              "│ max_pooling2d_1 (\u001b[38;5;33mMaxPooling2D\u001b[0m)  │ (\u001b[38;5;45mNone\u001b[0m, \u001b[38;5;34m43\u001b[0m, \u001b[38;5;34m43\u001b[0m, \u001b[38;5;34m64\u001b[0m)     │             \u001b[38;5;34m0\u001b[0m │\n",
              "├─────────────────────────────────┼────────────────────────┼───────────────┤\n",
              "│ batch_normalization_1           │ (\u001b[38;5;45mNone\u001b[0m, \u001b[38;5;34m43\u001b[0m, \u001b[38;5;34m43\u001b[0m, \u001b[38;5;34m64\u001b[0m)     │           \u001b[38;5;34m256\u001b[0m │\n",
              "│ (\u001b[38;5;33mBatchNormalization\u001b[0m)            │                        │               │\n",
              "├─────────────────────────────────┼────────────────────────┼───────────────┤\n",
              "│ conv2d_2 (\u001b[38;5;33mConv2D\u001b[0m)               │ (\u001b[38;5;45mNone\u001b[0m, \u001b[38;5;34m41\u001b[0m, \u001b[38;5;34m41\u001b[0m, \u001b[38;5;34m128\u001b[0m)    │        \u001b[38;5;34m73,856\u001b[0m │\n",
              "├─────────────────────────────────┼────────────────────────┼───────────────┤\n",
              "│ max_pooling2d_2 (\u001b[38;5;33mMaxPooling2D\u001b[0m)  │ (\u001b[38;5;45mNone\u001b[0m, \u001b[38;5;34m20\u001b[0m, \u001b[38;5;34m20\u001b[0m, \u001b[38;5;34m128\u001b[0m)    │             \u001b[38;5;34m0\u001b[0m │\n",
              "├─────────────────────────────────┼────────────────────────┼───────────────┤\n",
              "│ batch_normalization_2           │ (\u001b[38;5;45mNone\u001b[0m, \u001b[38;5;34m20\u001b[0m, \u001b[38;5;34m20\u001b[0m, \u001b[38;5;34m128\u001b[0m)    │           \u001b[38;5;34m512\u001b[0m │\n",
              "│ (\u001b[38;5;33mBatchNormalization\u001b[0m)            │                        │               │\n",
              "├─────────────────────────────────┼────────────────────────┼───────────────┤\n",
              "│ flatten (\u001b[38;5;33mFlatten\u001b[0m)               │ (\u001b[38;5;45mNone\u001b[0m, \u001b[38;5;34m51200\u001b[0m)          │             \u001b[38;5;34m0\u001b[0m │\n",
              "├─────────────────────────────────┼────────────────────────┼───────────────┤\n",
              "│ dense (\u001b[38;5;33mDense\u001b[0m)                   │ (\u001b[38;5;45mNone\u001b[0m, \u001b[38;5;34m128\u001b[0m)            │     \u001b[38;5;34m6,553,728\u001b[0m │\n",
              "├─────────────────────────────────┼────────────────────────┼───────────────┤\n",
              "│ dropout (\u001b[38;5;33mDropout\u001b[0m)               │ (\u001b[38;5;45mNone\u001b[0m, \u001b[38;5;34m128\u001b[0m)            │             \u001b[38;5;34m0\u001b[0m │\n",
              "├─────────────────────────────────┼────────────────────────┼───────────────┤\n",
              "│ dense_1 (\u001b[38;5;33mDense\u001b[0m)                 │ (\u001b[38;5;45mNone\u001b[0m, \u001b[38;5;34m3\u001b[0m)              │           \u001b[38;5;34m387\u001b[0m │\n",
              "└─────────────────────────────────┴────────────────────────┴───────────────┘\n"
            ],
            "text/html": [
              "<pre style=\"white-space:pre;overflow-x:auto;line-height:normal;font-family:Menlo,'DejaVu Sans Mono',consolas,'Courier New',monospace\">┏━━━━━━━━━━━━━━━━━━━━━━━━━━━━━━━━━┳━━━━━━━━━━━━━━━━━━━━━━━━┳━━━━━━━━━━━━━━━┓\n",
              "┃<span style=\"font-weight: bold\"> Layer (type)                    </span>┃<span style=\"font-weight: bold\"> Output Shape           </span>┃<span style=\"font-weight: bold\">       Param # </span>┃\n",
              "┡━━━━━━━━━━━━━━━━━━━━━━━━━━━━━━━━━╇━━━━━━━━━━━━━━━━━━━━━━━━╇━━━━━━━━━━━━━━━┩\n",
              "│ conv2d (<span style=\"color: #0087ff; text-decoration-color: #0087ff\">Conv2D</span>)                 │ (<span style=\"color: #00d7ff; text-decoration-color: #00d7ff\">None</span>, <span style=\"color: #00af00; text-decoration-color: #00af00\">178</span>, <span style=\"color: #00af00; text-decoration-color: #00af00\">178</span>, <span style=\"color: #00af00; text-decoration-color: #00af00\">32</span>)   │           <span style=\"color: #00af00; text-decoration-color: #00af00\">896</span> │\n",
              "├─────────────────────────────────┼────────────────────────┼───────────────┤\n",
              "│ max_pooling2d (<span style=\"color: #0087ff; text-decoration-color: #0087ff\">MaxPooling2D</span>)    │ (<span style=\"color: #00d7ff; text-decoration-color: #00d7ff\">None</span>, <span style=\"color: #00af00; text-decoration-color: #00af00\">89</span>, <span style=\"color: #00af00; text-decoration-color: #00af00\">89</span>, <span style=\"color: #00af00; text-decoration-color: #00af00\">32</span>)     │             <span style=\"color: #00af00; text-decoration-color: #00af00\">0</span> │\n",
              "├─────────────────────────────────┼────────────────────────┼───────────────┤\n",
              "│ batch_normalization             │ (<span style=\"color: #00d7ff; text-decoration-color: #00d7ff\">None</span>, <span style=\"color: #00af00; text-decoration-color: #00af00\">89</span>, <span style=\"color: #00af00; text-decoration-color: #00af00\">89</span>, <span style=\"color: #00af00; text-decoration-color: #00af00\">32</span>)     │           <span style=\"color: #00af00; text-decoration-color: #00af00\">128</span> │\n",
              "│ (<span style=\"color: #0087ff; text-decoration-color: #0087ff\">BatchNormalization</span>)            │                        │               │\n",
              "├─────────────────────────────────┼────────────────────────┼───────────────┤\n",
              "│ conv2d_1 (<span style=\"color: #0087ff; text-decoration-color: #0087ff\">Conv2D</span>)               │ (<span style=\"color: #00d7ff; text-decoration-color: #00d7ff\">None</span>, <span style=\"color: #00af00; text-decoration-color: #00af00\">87</span>, <span style=\"color: #00af00; text-decoration-color: #00af00\">87</span>, <span style=\"color: #00af00; text-decoration-color: #00af00\">64</span>)     │        <span style=\"color: #00af00; text-decoration-color: #00af00\">18,496</span> │\n",
              "├─────────────────────────────────┼────────────────────────┼───────────────┤\n",
              "│ max_pooling2d_1 (<span style=\"color: #0087ff; text-decoration-color: #0087ff\">MaxPooling2D</span>)  │ (<span style=\"color: #00d7ff; text-decoration-color: #00d7ff\">None</span>, <span style=\"color: #00af00; text-decoration-color: #00af00\">43</span>, <span style=\"color: #00af00; text-decoration-color: #00af00\">43</span>, <span style=\"color: #00af00; text-decoration-color: #00af00\">64</span>)     │             <span style=\"color: #00af00; text-decoration-color: #00af00\">0</span> │\n",
              "├─────────────────────────────────┼────────────────────────┼───────────────┤\n",
              "│ batch_normalization_1           │ (<span style=\"color: #00d7ff; text-decoration-color: #00d7ff\">None</span>, <span style=\"color: #00af00; text-decoration-color: #00af00\">43</span>, <span style=\"color: #00af00; text-decoration-color: #00af00\">43</span>, <span style=\"color: #00af00; text-decoration-color: #00af00\">64</span>)     │           <span style=\"color: #00af00; text-decoration-color: #00af00\">256</span> │\n",
              "│ (<span style=\"color: #0087ff; text-decoration-color: #0087ff\">BatchNormalization</span>)            │                        │               │\n",
              "├─────────────────────────────────┼────────────────────────┼───────────────┤\n",
              "│ conv2d_2 (<span style=\"color: #0087ff; text-decoration-color: #0087ff\">Conv2D</span>)               │ (<span style=\"color: #00d7ff; text-decoration-color: #00d7ff\">None</span>, <span style=\"color: #00af00; text-decoration-color: #00af00\">41</span>, <span style=\"color: #00af00; text-decoration-color: #00af00\">41</span>, <span style=\"color: #00af00; text-decoration-color: #00af00\">128</span>)    │        <span style=\"color: #00af00; text-decoration-color: #00af00\">73,856</span> │\n",
              "├─────────────────────────────────┼────────────────────────┼───────────────┤\n",
              "│ max_pooling2d_2 (<span style=\"color: #0087ff; text-decoration-color: #0087ff\">MaxPooling2D</span>)  │ (<span style=\"color: #00d7ff; text-decoration-color: #00d7ff\">None</span>, <span style=\"color: #00af00; text-decoration-color: #00af00\">20</span>, <span style=\"color: #00af00; text-decoration-color: #00af00\">20</span>, <span style=\"color: #00af00; text-decoration-color: #00af00\">128</span>)    │             <span style=\"color: #00af00; text-decoration-color: #00af00\">0</span> │\n",
              "├─────────────────────────────────┼────────────────────────┼───────────────┤\n",
              "│ batch_normalization_2           │ (<span style=\"color: #00d7ff; text-decoration-color: #00d7ff\">None</span>, <span style=\"color: #00af00; text-decoration-color: #00af00\">20</span>, <span style=\"color: #00af00; text-decoration-color: #00af00\">20</span>, <span style=\"color: #00af00; text-decoration-color: #00af00\">128</span>)    │           <span style=\"color: #00af00; text-decoration-color: #00af00\">512</span> │\n",
              "│ (<span style=\"color: #0087ff; text-decoration-color: #0087ff\">BatchNormalization</span>)            │                        │               │\n",
              "├─────────────────────────────────┼────────────────────────┼───────────────┤\n",
              "│ flatten (<span style=\"color: #0087ff; text-decoration-color: #0087ff\">Flatten</span>)               │ (<span style=\"color: #00d7ff; text-decoration-color: #00d7ff\">None</span>, <span style=\"color: #00af00; text-decoration-color: #00af00\">51200</span>)          │             <span style=\"color: #00af00; text-decoration-color: #00af00\">0</span> │\n",
              "├─────────────────────────────────┼────────────────────────┼───────────────┤\n",
              "│ dense (<span style=\"color: #0087ff; text-decoration-color: #0087ff\">Dense</span>)                   │ (<span style=\"color: #00d7ff; text-decoration-color: #00d7ff\">None</span>, <span style=\"color: #00af00; text-decoration-color: #00af00\">128</span>)            │     <span style=\"color: #00af00; text-decoration-color: #00af00\">6,553,728</span> │\n",
              "├─────────────────────────────────┼────────────────────────┼───────────────┤\n",
              "│ dropout (<span style=\"color: #0087ff; text-decoration-color: #0087ff\">Dropout</span>)               │ (<span style=\"color: #00d7ff; text-decoration-color: #00d7ff\">None</span>, <span style=\"color: #00af00; text-decoration-color: #00af00\">128</span>)            │             <span style=\"color: #00af00; text-decoration-color: #00af00\">0</span> │\n",
              "├─────────────────────────────────┼────────────────────────┼───────────────┤\n",
              "│ dense_1 (<span style=\"color: #0087ff; text-decoration-color: #0087ff\">Dense</span>)                 │ (<span style=\"color: #00d7ff; text-decoration-color: #00d7ff\">None</span>, <span style=\"color: #00af00; text-decoration-color: #00af00\">3</span>)              │           <span style=\"color: #00af00; text-decoration-color: #00af00\">387</span> │\n",
              "└─────────────────────────────────┴────────────────────────┴───────────────┘\n",
              "</pre>\n"
            ]
          },
          "metadata": {}
        },
        {
          "output_type": "display_data",
          "data": {
            "text/plain": [
              "\u001b[1m Total params: \u001b[0m\u001b[38;5;34m19,943,883\u001b[0m (76.08 MB)\n"
            ],
            "text/html": [
              "<pre style=\"white-space:pre;overflow-x:auto;line-height:normal;font-family:Menlo,'DejaVu Sans Mono',consolas,'Courier New',monospace\"><span style=\"font-weight: bold\"> Total params: </span><span style=\"color: #00af00; text-decoration-color: #00af00\">19,943,883</span> (76.08 MB)\n",
              "</pre>\n"
            ]
          },
          "metadata": {}
        },
        {
          "output_type": "display_data",
          "data": {
            "text/plain": [
              "\u001b[1m Trainable params: \u001b[0m\u001b[38;5;34m6,647,811\u001b[0m (25.36 MB)\n"
            ],
            "text/html": [
              "<pre style=\"white-space:pre;overflow-x:auto;line-height:normal;font-family:Menlo,'DejaVu Sans Mono',consolas,'Courier New',monospace\"><span style=\"font-weight: bold\"> Trainable params: </span><span style=\"color: #00af00; text-decoration-color: #00af00\">6,647,811</span> (25.36 MB)\n",
              "</pre>\n"
            ]
          },
          "metadata": {}
        },
        {
          "output_type": "display_data",
          "data": {
            "text/plain": [
              "\u001b[1m Non-trainable params: \u001b[0m\u001b[38;5;34m448\u001b[0m (1.75 KB)\n"
            ],
            "text/html": [
              "<pre style=\"white-space:pre;overflow-x:auto;line-height:normal;font-family:Menlo,'DejaVu Sans Mono',consolas,'Courier New',monospace\"><span style=\"font-weight: bold\"> Non-trainable params: </span><span style=\"color: #00af00; text-decoration-color: #00af00\">448</span> (1.75 KB)\n",
              "</pre>\n"
            ]
          },
          "metadata": {}
        },
        {
          "output_type": "display_data",
          "data": {
            "text/plain": [
              "\u001b[1m Optimizer params: \u001b[0m\u001b[38;5;34m13,295,624\u001b[0m (50.72 MB)\n"
            ],
            "text/html": [
              "<pre style=\"white-space:pre;overflow-x:auto;line-height:normal;font-family:Menlo,'DejaVu Sans Mono',consolas,'Courier New',monospace\"><span style=\"font-weight: bold\"> Optimizer params: </span><span style=\"color: #00af00; text-decoration-color: #00af00\">13,295,624</span> (50.72 MB)\n",
              "</pre>\n"
            ]
          },
          "metadata": {}
        }
      ]
    },
    {
      "cell_type": "code",
      "source": [
        "from google.colab import files\n",
        "files.download('/content/drive/MyDrive/Pneumonia-Detection/models/best_model.keras')"
      ],
      "metadata": {
        "colab": {
          "base_uri": "https://localhost:8080/",
          "height": 17
        },
        "id": "uBflJFcOQTm9",
        "outputId": "86238334-2df6-498f-8ace-e2cff2c490ec"
      },
      "execution_count": null,
      "outputs": [
        {
          "output_type": "display_data",
          "data": {
            "text/plain": [
              "<IPython.core.display.Javascript object>"
            ],
            "application/javascript": [
              "\n",
              "    async function download(id, filename, size) {\n",
              "      if (!google.colab.kernel.accessAllowed) {\n",
              "        return;\n",
              "      }\n",
              "      const div = document.createElement('div');\n",
              "      const label = document.createElement('label');\n",
              "      label.textContent = `Downloading \"${filename}\": `;\n",
              "      div.appendChild(label);\n",
              "      const progress = document.createElement('progress');\n",
              "      progress.max = size;\n",
              "      div.appendChild(progress);\n",
              "      document.body.appendChild(div);\n",
              "\n",
              "      const buffers = [];\n",
              "      let downloaded = 0;\n",
              "\n",
              "      const channel = await google.colab.kernel.comms.open(id);\n",
              "      // Send a message to notify the kernel that we're ready.\n",
              "      channel.send({})\n",
              "\n",
              "      for await (const message of channel.messages) {\n",
              "        // Send a message to notify the kernel that we're ready.\n",
              "        channel.send({})\n",
              "        if (message.buffers) {\n",
              "          for (const buffer of message.buffers) {\n",
              "            buffers.push(buffer);\n",
              "            downloaded += buffer.byteLength;\n",
              "            progress.value = downloaded;\n",
              "          }\n",
              "        }\n",
              "      }\n",
              "      const blob = new Blob(buffers, {type: 'application/binary'});\n",
              "      const a = document.createElement('a');\n",
              "      a.href = window.URL.createObjectURL(blob);\n",
              "      a.download = filename;\n",
              "      div.appendChild(a);\n",
              "      a.click();\n",
              "      div.remove();\n",
              "    }\n",
              "  "
            ]
          },
          "metadata": {}
        },
        {
          "output_type": "display_data",
          "data": {
            "text/plain": [
              "<IPython.core.display.Javascript object>"
            ],
            "application/javascript": [
              "download(\"download_d721e4dc-d579-41cf-9f64-3e337d1f732c\", \"best_model.keras\", 79840302)"
            ]
          },
          "metadata": {}
        }
      ]
    },
    {
      "cell_type": "markdown",
      "source": [],
      "metadata": {
        "id": "aVYPRBc9zexo"
      }
    },
    {
      "cell_type": "code",
      "source": [
        "from tensorflow.keras.models import load_model\n",
        "\n",
        "model = load_model('/content/best_model.keras')\n",
        "model.summary()"
      ],
      "metadata": {
        "colab": {
          "base_uri": "https://localhost:8080/",
          "height": 609
        },
        "id": "5gYyT5GzUDZD",
        "outputId": "2c301e9d-0cd4-4d9c-e26c-2f8179dc4a71"
      },
      "execution_count": null,
      "outputs": [
        {
          "output_type": "display_data",
          "data": {
            "text/plain": [
              "\u001b[1mModel: \"sequential\"\u001b[0m\n"
            ],
            "text/html": [
              "<pre style=\"white-space:pre;overflow-x:auto;line-height:normal;font-family:Menlo,'DejaVu Sans Mono',consolas,'Courier New',monospace\"><span style=\"font-weight: bold\">Model: \"sequential\"</span>\n",
              "</pre>\n"
            ]
          },
          "metadata": {}
        },
        {
          "output_type": "display_data",
          "data": {
            "text/plain": [
              "┏━━━━━━━━━━━━━━━━━━━━━━━━━━━━━━━━━┳━━━━━━━━━━━━━━━━━━━━━━━━┳━━━━━━━━━━━━━━━┓\n",
              "┃\u001b[1m \u001b[0m\u001b[1mLayer (type)                   \u001b[0m\u001b[1m \u001b[0m┃\u001b[1m \u001b[0m\u001b[1mOutput Shape          \u001b[0m\u001b[1m \u001b[0m┃\u001b[1m \u001b[0m\u001b[1m      Param #\u001b[0m\u001b[1m \u001b[0m┃\n",
              "┡━━━━━━━━━━━━━━━━━━━━━━━━━━━━━━━━━╇━━━━━━━━━━━━━━━━━━━━━━━━╇━━━━━━━━━━━━━━━┩\n",
              "│ conv2d (\u001b[38;5;33mConv2D\u001b[0m)                 │ (\u001b[38;5;45mNone\u001b[0m, \u001b[38;5;34m178\u001b[0m, \u001b[38;5;34m178\u001b[0m, \u001b[38;5;34m32\u001b[0m)   │           \u001b[38;5;34m896\u001b[0m │\n",
              "├─────────────────────────────────┼────────────────────────┼───────────────┤\n",
              "│ max_pooling2d (\u001b[38;5;33mMaxPooling2D\u001b[0m)    │ (\u001b[38;5;45mNone\u001b[0m, \u001b[38;5;34m89\u001b[0m, \u001b[38;5;34m89\u001b[0m, \u001b[38;5;34m32\u001b[0m)     │             \u001b[38;5;34m0\u001b[0m │\n",
              "├─────────────────────────────────┼────────────────────────┼───────────────┤\n",
              "│ batch_normalization             │ (\u001b[38;5;45mNone\u001b[0m, \u001b[38;5;34m89\u001b[0m, \u001b[38;5;34m89\u001b[0m, \u001b[38;5;34m32\u001b[0m)     │           \u001b[38;5;34m128\u001b[0m │\n",
              "│ (\u001b[38;5;33mBatchNormalization\u001b[0m)            │                        │               │\n",
              "├─────────────────────────────────┼────────────────────────┼───────────────┤\n",
              "│ conv2d_1 (\u001b[38;5;33mConv2D\u001b[0m)               │ (\u001b[38;5;45mNone\u001b[0m, \u001b[38;5;34m87\u001b[0m, \u001b[38;5;34m87\u001b[0m, \u001b[38;5;34m64\u001b[0m)     │        \u001b[38;5;34m18,496\u001b[0m │\n",
              "├─────────────────────────────────┼────────────────────────┼───────────────┤\n",
              "│ max_pooling2d_1 (\u001b[38;5;33mMaxPooling2D\u001b[0m)  │ (\u001b[38;5;45mNone\u001b[0m, \u001b[38;5;34m43\u001b[0m, \u001b[38;5;34m43\u001b[0m, \u001b[38;5;34m64\u001b[0m)     │             \u001b[38;5;34m0\u001b[0m │\n",
              "├─────────────────────────────────┼────────────────────────┼───────────────┤\n",
              "│ batch_normalization_1           │ (\u001b[38;5;45mNone\u001b[0m, \u001b[38;5;34m43\u001b[0m, \u001b[38;5;34m43\u001b[0m, \u001b[38;5;34m64\u001b[0m)     │           \u001b[38;5;34m256\u001b[0m │\n",
              "│ (\u001b[38;5;33mBatchNormalization\u001b[0m)            │                        │               │\n",
              "├─────────────────────────────────┼────────────────────────┼───────────────┤\n",
              "│ conv2d_2 (\u001b[38;5;33mConv2D\u001b[0m)               │ (\u001b[38;5;45mNone\u001b[0m, \u001b[38;5;34m41\u001b[0m, \u001b[38;5;34m41\u001b[0m, \u001b[38;5;34m128\u001b[0m)    │        \u001b[38;5;34m73,856\u001b[0m │\n",
              "├─────────────────────────────────┼────────────────────────┼───────────────┤\n",
              "│ max_pooling2d_2 (\u001b[38;5;33mMaxPooling2D\u001b[0m)  │ (\u001b[38;5;45mNone\u001b[0m, \u001b[38;5;34m20\u001b[0m, \u001b[38;5;34m20\u001b[0m, \u001b[38;5;34m128\u001b[0m)    │             \u001b[38;5;34m0\u001b[0m │\n",
              "├─────────────────────────────────┼────────────────────────┼───────────────┤\n",
              "│ batch_normalization_2           │ (\u001b[38;5;45mNone\u001b[0m, \u001b[38;5;34m20\u001b[0m, \u001b[38;5;34m20\u001b[0m, \u001b[38;5;34m128\u001b[0m)    │           \u001b[38;5;34m512\u001b[0m │\n",
              "│ (\u001b[38;5;33mBatchNormalization\u001b[0m)            │                        │               │\n",
              "├─────────────────────────────────┼────────────────────────┼───────────────┤\n",
              "│ flatten (\u001b[38;5;33mFlatten\u001b[0m)               │ (\u001b[38;5;45mNone\u001b[0m, \u001b[38;5;34m51200\u001b[0m)          │             \u001b[38;5;34m0\u001b[0m │\n",
              "├─────────────────────────────────┼────────────────────────┼───────────────┤\n",
              "│ dense (\u001b[38;5;33mDense\u001b[0m)                   │ (\u001b[38;5;45mNone\u001b[0m, \u001b[38;5;34m128\u001b[0m)            │     \u001b[38;5;34m6,553,728\u001b[0m │\n",
              "├─────────────────────────────────┼────────────────────────┼───────────────┤\n",
              "│ dropout (\u001b[38;5;33mDropout\u001b[0m)               │ (\u001b[38;5;45mNone\u001b[0m, \u001b[38;5;34m128\u001b[0m)            │             \u001b[38;5;34m0\u001b[0m │\n",
              "├─────────────────────────────────┼────────────────────────┼───────────────┤\n",
              "│ dense_1 (\u001b[38;5;33mDense\u001b[0m)                 │ (\u001b[38;5;45mNone\u001b[0m, \u001b[38;5;34m3\u001b[0m)              │           \u001b[38;5;34m387\u001b[0m │\n",
              "└─────────────────────────────────┴────────────────────────┴───────────────┘\n"
            ],
            "text/html": [
              "<pre style=\"white-space:pre;overflow-x:auto;line-height:normal;font-family:Menlo,'DejaVu Sans Mono',consolas,'Courier New',monospace\">┏━━━━━━━━━━━━━━━━━━━━━━━━━━━━━━━━━┳━━━━━━━━━━━━━━━━━━━━━━━━┳━━━━━━━━━━━━━━━┓\n",
              "┃<span style=\"font-weight: bold\"> Layer (type)                    </span>┃<span style=\"font-weight: bold\"> Output Shape           </span>┃<span style=\"font-weight: bold\">       Param # </span>┃\n",
              "┡━━━━━━━━━━━━━━━━━━━━━━━━━━━━━━━━━╇━━━━━━━━━━━━━━━━━━━━━━━━╇━━━━━━━━━━━━━━━┩\n",
              "│ conv2d (<span style=\"color: #0087ff; text-decoration-color: #0087ff\">Conv2D</span>)                 │ (<span style=\"color: #00d7ff; text-decoration-color: #00d7ff\">None</span>, <span style=\"color: #00af00; text-decoration-color: #00af00\">178</span>, <span style=\"color: #00af00; text-decoration-color: #00af00\">178</span>, <span style=\"color: #00af00; text-decoration-color: #00af00\">32</span>)   │           <span style=\"color: #00af00; text-decoration-color: #00af00\">896</span> │\n",
              "├─────────────────────────────────┼────────────────────────┼───────────────┤\n",
              "│ max_pooling2d (<span style=\"color: #0087ff; text-decoration-color: #0087ff\">MaxPooling2D</span>)    │ (<span style=\"color: #00d7ff; text-decoration-color: #00d7ff\">None</span>, <span style=\"color: #00af00; text-decoration-color: #00af00\">89</span>, <span style=\"color: #00af00; text-decoration-color: #00af00\">89</span>, <span style=\"color: #00af00; text-decoration-color: #00af00\">32</span>)     │             <span style=\"color: #00af00; text-decoration-color: #00af00\">0</span> │\n",
              "├─────────────────────────────────┼────────────────────────┼───────────────┤\n",
              "│ batch_normalization             │ (<span style=\"color: #00d7ff; text-decoration-color: #00d7ff\">None</span>, <span style=\"color: #00af00; text-decoration-color: #00af00\">89</span>, <span style=\"color: #00af00; text-decoration-color: #00af00\">89</span>, <span style=\"color: #00af00; text-decoration-color: #00af00\">32</span>)     │           <span style=\"color: #00af00; text-decoration-color: #00af00\">128</span> │\n",
              "│ (<span style=\"color: #0087ff; text-decoration-color: #0087ff\">BatchNormalization</span>)            │                        │               │\n",
              "├─────────────────────────────────┼────────────────────────┼───────────────┤\n",
              "│ conv2d_1 (<span style=\"color: #0087ff; text-decoration-color: #0087ff\">Conv2D</span>)               │ (<span style=\"color: #00d7ff; text-decoration-color: #00d7ff\">None</span>, <span style=\"color: #00af00; text-decoration-color: #00af00\">87</span>, <span style=\"color: #00af00; text-decoration-color: #00af00\">87</span>, <span style=\"color: #00af00; text-decoration-color: #00af00\">64</span>)     │        <span style=\"color: #00af00; text-decoration-color: #00af00\">18,496</span> │\n",
              "├─────────────────────────────────┼────────────────────────┼───────────────┤\n",
              "│ max_pooling2d_1 (<span style=\"color: #0087ff; text-decoration-color: #0087ff\">MaxPooling2D</span>)  │ (<span style=\"color: #00d7ff; text-decoration-color: #00d7ff\">None</span>, <span style=\"color: #00af00; text-decoration-color: #00af00\">43</span>, <span style=\"color: #00af00; text-decoration-color: #00af00\">43</span>, <span style=\"color: #00af00; text-decoration-color: #00af00\">64</span>)     │             <span style=\"color: #00af00; text-decoration-color: #00af00\">0</span> │\n",
              "├─────────────────────────────────┼────────────────────────┼───────────────┤\n",
              "│ batch_normalization_1           │ (<span style=\"color: #00d7ff; text-decoration-color: #00d7ff\">None</span>, <span style=\"color: #00af00; text-decoration-color: #00af00\">43</span>, <span style=\"color: #00af00; text-decoration-color: #00af00\">43</span>, <span style=\"color: #00af00; text-decoration-color: #00af00\">64</span>)     │           <span style=\"color: #00af00; text-decoration-color: #00af00\">256</span> │\n",
              "│ (<span style=\"color: #0087ff; text-decoration-color: #0087ff\">BatchNormalization</span>)            │                        │               │\n",
              "├─────────────────────────────────┼────────────────────────┼───────────────┤\n",
              "│ conv2d_2 (<span style=\"color: #0087ff; text-decoration-color: #0087ff\">Conv2D</span>)               │ (<span style=\"color: #00d7ff; text-decoration-color: #00d7ff\">None</span>, <span style=\"color: #00af00; text-decoration-color: #00af00\">41</span>, <span style=\"color: #00af00; text-decoration-color: #00af00\">41</span>, <span style=\"color: #00af00; text-decoration-color: #00af00\">128</span>)    │        <span style=\"color: #00af00; text-decoration-color: #00af00\">73,856</span> │\n",
              "├─────────────────────────────────┼────────────────────────┼───────────────┤\n",
              "│ max_pooling2d_2 (<span style=\"color: #0087ff; text-decoration-color: #0087ff\">MaxPooling2D</span>)  │ (<span style=\"color: #00d7ff; text-decoration-color: #00d7ff\">None</span>, <span style=\"color: #00af00; text-decoration-color: #00af00\">20</span>, <span style=\"color: #00af00; text-decoration-color: #00af00\">20</span>, <span style=\"color: #00af00; text-decoration-color: #00af00\">128</span>)    │             <span style=\"color: #00af00; text-decoration-color: #00af00\">0</span> │\n",
              "├─────────────────────────────────┼────────────────────────┼───────────────┤\n",
              "│ batch_normalization_2           │ (<span style=\"color: #00d7ff; text-decoration-color: #00d7ff\">None</span>, <span style=\"color: #00af00; text-decoration-color: #00af00\">20</span>, <span style=\"color: #00af00; text-decoration-color: #00af00\">20</span>, <span style=\"color: #00af00; text-decoration-color: #00af00\">128</span>)    │           <span style=\"color: #00af00; text-decoration-color: #00af00\">512</span> │\n",
              "│ (<span style=\"color: #0087ff; text-decoration-color: #0087ff\">BatchNormalization</span>)            │                        │               │\n",
              "├─────────────────────────────────┼────────────────────────┼───────────────┤\n",
              "│ flatten (<span style=\"color: #0087ff; text-decoration-color: #0087ff\">Flatten</span>)               │ (<span style=\"color: #00d7ff; text-decoration-color: #00d7ff\">None</span>, <span style=\"color: #00af00; text-decoration-color: #00af00\">51200</span>)          │             <span style=\"color: #00af00; text-decoration-color: #00af00\">0</span> │\n",
              "├─────────────────────────────────┼────────────────────────┼───────────────┤\n",
              "│ dense (<span style=\"color: #0087ff; text-decoration-color: #0087ff\">Dense</span>)                   │ (<span style=\"color: #00d7ff; text-decoration-color: #00d7ff\">None</span>, <span style=\"color: #00af00; text-decoration-color: #00af00\">128</span>)            │     <span style=\"color: #00af00; text-decoration-color: #00af00\">6,553,728</span> │\n",
              "├─────────────────────────────────┼────────────────────────┼───────────────┤\n",
              "│ dropout (<span style=\"color: #0087ff; text-decoration-color: #0087ff\">Dropout</span>)               │ (<span style=\"color: #00d7ff; text-decoration-color: #00d7ff\">None</span>, <span style=\"color: #00af00; text-decoration-color: #00af00\">128</span>)            │             <span style=\"color: #00af00; text-decoration-color: #00af00\">0</span> │\n",
              "├─────────────────────────────────┼────────────────────────┼───────────────┤\n",
              "│ dense_1 (<span style=\"color: #0087ff; text-decoration-color: #0087ff\">Dense</span>)                 │ (<span style=\"color: #00d7ff; text-decoration-color: #00d7ff\">None</span>, <span style=\"color: #00af00; text-decoration-color: #00af00\">3</span>)              │           <span style=\"color: #00af00; text-decoration-color: #00af00\">387</span> │\n",
              "└─────────────────────────────────┴────────────────────────┴───────────────┘\n",
              "</pre>\n"
            ]
          },
          "metadata": {}
        },
        {
          "output_type": "display_data",
          "data": {
            "text/plain": [
              "\u001b[1m Total params: \u001b[0m\u001b[38;5;34m19,943,883\u001b[0m (76.08 MB)\n"
            ],
            "text/html": [
              "<pre style=\"white-space:pre;overflow-x:auto;line-height:normal;font-family:Menlo,'DejaVu Sans Mono',consolas,'Courier New',monospace\"><span style=\"font-weight: bold\"> Total params: </span><span style=\"color: #00af00; text-decoration-color: #00af00\">19,943,883</span> (76.08 MB)\n",
              "</pre>\n"
            ]
          },
          "metadata": {}
        },
        {
          "output_type": "display_data",
          "data": {
            "text/plain": [
              "\u001b[1m Trainable params: \u001b[0m\u001b[38;5;34m6,647,811\u001b[0m (25.36 MB)\n"
            ],
            "text/html": [
              "<pre style=\"white-space:pre;overflow-x:auto;line-height:normal;font-family:Menlo,'DejaVu Sans Mono',consolas,'Courier New',monospace\"><span style=\"font-weight: bold\"> Trainable params: </span><span style=\"color: #00af00; text-decoration-color: #00af00\">6,647,811</span> (25.36 MB)\n",
              "</pre>\n"
            ]
          },
          "metadata": {}
        },
        {
          "output_type": "display_data",
          "data": {
            "text/plain": [
              "\u001b[1m Non-trainable params: \u001b[0m\u001b[38;5;34m448\u001b[0m (1.75 KB)\n"
            ],
            "text/html": [
              "<pre style=\"white-space:pre;overflow-x:auto;line-height:normal;font-family:Menlo,'DejaVu Sans Mono',consolas,'Courier New',monospace\"><span style=\"font-weight: bold\"> Non-trainable params: </span><span style=\"color: #00af00; text-decoration-color: #00af00\">448</span> (1.75 KB)\n",
              "</pre>\n"
            ]
          },
          "metadata": {}
        },
        {
          "output_type": "display_data",
          "data": {
            "text/plain": [
              "\u001b[1m Optimizer params: \u001b[0m\u001b[38;5;34m13,295,624\u001b[0m (50.72 MB)\n"
            ],
            "text/html": [
              "<pre style=\"white-space:pre;overflow-x:auto;line-height:normal;font-family:Menlo,'DejaVu Sans Mono',consolas,'Courier New',monospace\"><span style=\"font-weight: bold\"> Optimizer params: </span><span style=\"color: #00af00; text-decoration-color: #00af00\">13,295,624</span> (50.72 MB)\n",
              "</pre>\n"
            ]
          },
          "metadata": {}
        }
      ]
    },
    {
      "cell_type": "markdown",
      "source": [
        "# ***Plotting the training Curve***"
      ],
      "metadata": {
        "id": "gUh3OvTPYkQH"
      }
    },
    {
      "cell_type": "code",
      "source": [
        "loss, acc = model.evaluate(test_generator)\n",
        "print(f\"Test Accuracy: {acc*100:.2f}%\")\n"
      ],
      "metadata": {
        "colab": {
          "base_uri": "https://localhost:8080/"
        },
        "id": "4S7iKyeBVuG3",
        "outputId": "9dcdaa27-0141-4b2a-ba41-ccdbc6c868e8"
      },
      "execution_count": null,
      "outputs": [
        {
          "output_type": "stream",
          "name": "stdout",
          "text": [
            "\u001b[1m28/28\u001b[0m \u001b[32m━━━━━━━━━━━━━━━━━━━━\u001b[0m\u001b[37m\u001b[0m \u001b[1m18s\u001b[0m 441ms/step - accuracy: 0.7983 - loss: 0.4883\n",
            "Test Accuracy: 77.82%\n"
          ]
        }
      ]
    },
    {
      "cell_type": "code",
      "source": [
        "from sklearn.metrics import roc_auc_score\n",
        "\n",
        "# Ground truth class indices (e.g., [0, 2, 1, 0, ...])\n",
        "y_true = test_generator.classes\n",
        "\n",
        "# Predicted class probabilities (shape: [N_samples, 3])\n",
        "y_pred = model.predict(test_generator)\n",
        "\n",
        "# Calculate multi-class AUC using One-vs-Rest strategy\n",
        "auc = roc_auc_score(y_true, y_pred, multi_class='ovr')  # or 'ovo'\n",
        "print(f\"Multi-class AUC: {auc:.4f}\")\n"
      ],
      "metadata": {
        "colab": {
          "base_uri": "https://localhost:8080/"
        },
        "id": "oxxwDMXiXjXr",
        "outputId": "08ccfbe0-83c4-43c2-e0dc-90c636fcf177"
      },
      "execution_count": null,
      "outputs": [
        {
          "output_type": "stream",
          "name": "stdout",
          "text": [
            "\u001b[1m28/28\u001b[0m \u001b[32m━━━━━━━━━━━━━━━━━━━━\u001b[0m\u001b[37m\u001b[0m \u001b[1m12s\u001b[0m 413ms/step\n",
            "Multi-class AUC: 0.8991\n"
          ]
        }
      ]
    },
    {
      "cell_type": "code",
      "source": [
        "import numpy as np\n",
        "import matplotlib.pyplot as plt\n",
        "from sklearn.metrics import classification_report, confusion_matrix, roc_auc_score, roc_curve\n",
        "from sklearn.preprocessing import label_binarize\n",
        "import seaborn as sns"
      ],
      "metadata": {
        "id": "j0kwfeqjYnka"
      },
      "execution_count": null,
      "outputs": []
    },
    {
      "cell_type": "code",
      "source": [
        "# Step 1: Reset val_gen and get true labels\n",
        "val_gen.reset()\n",
        "Y_true = val_gen.classes\n",
        "class_labels = list(val_gen.class_indices.keys())\n",
        "\n",
        "# Step 2: Predict class probabilities and labels\n",
        "Y_pred_probs = model.predict(val_gen, verbose=1)\n",
        "Y_pred = np.argmax(Y_pred_probs, axis=1)"
      ],
      "metadata": {
        "id": "vqnbSE6t1mOw"
      },
      "execution_count": null,
      "outputs": []
    },
    {
      "cell_type": "code",
      "source": [
        "from sklearn.metrics import roc_auc_score\n",
        "\n",
        "auc = roc_auc_score(Y_true, Y_pred_probs, multi_class='ovr')\n",
        "print(f\"AUC (OvR): {auc:.4f}\")\n"
      ],
      "metadata": {
        "id": "tFX8ZbnNZXCx"
      },
      "execution_count": null,
      "outputs": []
    },
    {
      "cell_type": "code",
      "source": [
        "# Step 3: Classification Report\n",
        "print(\"📝 Classification Report:\\n\")\n",
        "print(classification_report(Y_true, Y_pred, target_names=class_labels))\n"
      ],
      "metadata": {
        "id": "iAnjq0Jo1sIc"
      },
      "execution_count": null,
      "outputs": []
    },
    {
      "cell_type": "code",
      "source": [
        "# Step 4: Confusion Matrix\n",
        "cm = confusion_matrix(Y_true, Y_pred)\n",
        "plt.figure(figsize=(6, 5))\n",
        "sns.heatmap(cm, annot=True, fmt='d', cmap='Blues',\n",
        "            xticklabels=class_labels, yticklabels=class_labels)\n",
        "plt.title(\"📊 Confusion Matrix\")\n",
        "plt.xlabel(\"Predicted\")\n",
        "plt.ylabel(\"Actual\")\n",
        "plt.show()\n"
      ],
      "metadata": {
        "id": "vv9OqlU42KdQ"
      },
      "execution_count": null,
      "outputs": []
    },
    {
      "cell_type": "code",
      "source": [
        "# Step 5: ROC Curve for Multi-Class (OvR)\n",
        "Y_true_bin = label_binarize(Y_true, classes=range(len(class_labels)))  # One-hot encoding\n",
        "fpr = dict()\n",
        "tpr = dict()\n",
        "roc_auc = dict()\n",
        "\n",
        "for i in range(len(class_labels)):\n",
        "    fpr[i], tpr[i], _ = roc_curve(Y_true_bin[:, i], Y_pred_probs[:, i])\n",
        "    roc_auc[i] = roc_auc_score(Y_true_bin[:, i], Y_pred_probs[:, i])\n",
        "# Plot all ROC curves\n",
        "plt.figure(figsize=(7, 6))\n",
        "for i in range(len(class_labels)):\n",
        "    plt.plot(fpr[i], tpr[i], label=f\"{class_labels[i]} (AUC = {roc_auc[i]:.2f})\")\n",
        "plt.plot([0, 1], [0, 1], linestyle='--', color='gray')\n",
        "plt.title(\"📈 Multi-Class ROC Curve (One-vs-Rest)\")\n",
        "plt.xlabel(\"False Positive Rate\")\n",
        "plt.ylabel(\"True Positive Rate\")\n",
        "plt.legend()\n",
        "plt.grid(True)\n",
        "plt.show()"
      ],
      "metadata": {
        "id": "miDLC_DH2Q8k"
      },
      "execution_count": null,
      "outputs": []
    },
    {
      "cell_type": "code",
      "source": [
        "model.input_shape\n"
      ],
      "metadata": {
        "id": "Fj2A2slibYl9"
      },
      "execution_count": null,
      "outputs": []
    },
    {
      "cell_type": "code",
      "source": [
        "from tensorflow.keras.preprocessing import image\n",
        "import numpy as np\n",
        "\n",
        "def predict_image(model, img_path, class_names):\n",
        "    # Load and preprocess the image\n",
        "    img = image.load_img(img_path, target_size=(180, 180))\n",
        "    img_array = image.img_to_array(img) / 255.0\n",
        "    img_array = np.expand_dims(img_array, axis=0)  # Add batch dimension\n",
        "\n",
        "    # Predict\n",
        "    preds = model.predict(img_array)\n",
        "    pred_index = np.argmax(preds)\n",
        "    pred_class = class_names[pred_index]\n",
        "    confidence = preds[0][pred_index]\n",
        "\n",
        "    print(f\"Predicted Class: {pred_class} (Confidence: {confidence:.2f})\")\n",
        "    return pred_class, confidence\n"
      ],
      "metadata": {
        "id": "5G4X3zxFuMkP"
      },
      "execution_count": null,
      "outputs": []
    },
    {
      "cell_type": "code",
      "source": [
        "class_names = [\"bacterial\", \"viral\", \"normal\"]\n",
        "img_path = \"/content/person81_virus_153.jpeg\"\n",
        "\n",
        "predict_image(model, img_path, class_names)\n"
      ],
      "metadata": {
        "id": "2Z2CN4fN9mgw"
      },
      "execution_count": null,
      "outputs": []
    },
    {
      "cell_type": "markdown",
      "source": [
        "# ***Transfer Learning***"
      ],
      "metadata": {
        "id": "JfdiWLsmFoEG"
      }
    },
    {
      "cell_type": "code",
      "source": [
        "import tensorflow as tf\n",
        "from tensorflow.keras.applications import MobileNetV2\n",
        "from tensorflow.keras.models import Model\n",
        "from tensorflow.keras.layers import Input, GlobalAveragePooling2D, Dense, Dropout\n",
        "from tensorflow.keras.optimizers import Adam\n",
        "from tensorflow.keras.preprocessing.image import ImageDataGenerator\n"
      ],
      "metadata": {
        "id": "ZZLNznmf9sN0"
      },
      "execution_count": null,
      "outputs": []
    },
    {
      "cell_type": "code",
      "source": [
        "IMG_SIZE = (180, 180)\n",
        "NUM_CLASSES = 3  # bacterial, viral, normal\n",
        "BATCH_SIZE = 32\n"
      ],
      "metadata": {
        "id": "Y_hpP7CQF1JY"
      },
      "execution_count": null,
      "outputs": []
    },
    {
      "cell_type": "code",
      "source": [
        "from google.colab import drive\n",
        "drive.mount('/content/drive')\n"
      ],
      "metadata": {
        "colab": {
          "base_uri": "https://localhost:8080/"
        },
        "id": "F81uSeh4YqhG",
        "outputId": "a3e07edf-9026-43de-f384-3ba7de0ecd28"
      },
      "execution_count": null,
      "outputs": [
        {
          "output_type": "stream",
          "name": "stdout",
          "text": [
            "Drive already mounted at /content/drive; to attempt to forcibly remount, call drive.mount(\"/content/drive\", force_remount=True).\n"
          ]
        }
      ]
    },
    {
      "cell_type": "code",
      "source": [
        "train_dir = \"/content/drive/MyDrive/Pneumonia-Detection/data/chest_xray/train\"\n",
        "val_dir = \"/content/drive/MyDrive/Pneumonia-Detection/data/chest_xray/val\"\n"
      ],
      "metadata": {
        "id": "_WM1IPgFF3ms"
      },
      "execution_count": null,
      "outputs": []
    },
    {
      "cell_type": "code",
      "source": [
        "from tensorflow.keras.preprocessing.image import ImageDataGenerator\n",
        "\n",
        "IMG_SIZE = (180, 180)\n",
        "BATCH_SIZE = 32\n",
        "\n",
        "train_datagen = ImageDataGenerator(\n",
        "    rescale=1./255,\n",
        "    rotation_range=15,\n",
        "    zoom_range=0.1,\n",
        "    horizontal_flip=True\n",
        ")\n",
        "\n",
        "val_datagen = ImageDataGenerator(rescale=1./255)\n",
        "\n",
        "train_generator = train_datagen.flow_from_directory(\n",
        "    train_dir,\n",
        "    target_size=IMG_SIZE,\n",
        "    batch_size=BATCH_SIZE,\n",
        "    class_mode=\"categorical\"\n",
        ")\n",
        "\n",
        "val_generator = val_datagen.flow_from_directory(\n",
        "    val_dir,\n",
        "    target_size=IMG_SIZE,\n",
        "    batch_size=BATCH_SIZE,\n",
        "    class_mode=\"categorical\"\n",
        ")\n"
      ],
      "metadata": {
        "colab": {
          "base_uri": "https://localhost:8080/"
        },
        "id": "MTazmugYGTdr",
        "outputId": "764061d3-5dc3-4b27-bb04-2685e10dbdc9"
      },
      "execution_count": null,
      "outputs": [
        {
          "output_type": "stream",
          "name": "stdout",
          "text": [
            "Found 5216 images belonging to 3 classes.\n",
            "Found 16 images belonging to 3 classes.\n"
          ]
        }
      ]
    },
    {
      "cell_type": "code",
      "source": [
        "from tensorflow.keras.applications import MobileNetV2\n",
        "from tensorflow.keras.models import Model\n",
        "from tensorflow.keras.layers import Input, GlobalAveragePooling2D, Dropout, Dense\n",
        "from tensorflow.keras.optimizers import Adam\n",
        "\n",
        "base_model = MobileNetV2(input_shape=(*IMG_SIZE, 3), include_top=False, weights='imagenet')\n",
        "base_model.trainable = False  # Freeze feature extractor\n",
        "\n",
        "inputs = Input(shape=(*IMG_SIZE, 3))\n",
        "x = base_model(inputs, training=False)\n",
        "x = GlobalAveragePooling2D()(x)\n",
        "x = Dropout(0.3)(x)\n",
        "outputs = Dense(3, activation='softmax')(x)  # 3 classes\n",
        "\n",
        "model = Model(inputs, outputs)\n"
      ],
      "metadata": {
        "colab": {
          "base_uri": "https://localhost:8080/"
        },
        "id": "1Sw9Eiv2GWMU",
        "outputId": "deaa8fe6-414f-46cf-d4df-ed48f3cdd068"
      },
      "execution_count": null,
      "outputs": [
        {
          "output_type": "stream",
          "name": "stderr",
          "text": [
            "/tmp/ipython-input-48-1049455336.py:6: UserWarning: `input_shape` is undefined or non-square, or `rows` is not in [96, 128, 160, 192, 224]. Weights for input shape (224, 224) will be loaded as the default.\n",
            "  base_model = MobileNetV2(input_shape=(*IMG_SIZE, 3), include_top=False, weights='imagenet')\n"
          ]
        },
        {
          "output_type": "stream",
          "name": "stdout",
          "text": [
            "Downloading data from https://storage.googleapis.com/tensorflow/keras-applications/mobilenet_v2/mobilenet_v2_weights_tf_dim_ordering_tf_kernels_1.0_224_no_top.h5\n",
            "\u001b[1m9406464/9406464\u001b[0m \u001b[32m━━━━━━━━━━━━━━━━━━━━\u001b[0m\u001b[37m\u001b[0m \u001b[1m1s\u001b[0m 0us/step\n"
          ]
        }
      ]
    },
    {
      "cell_type": "code",
      "source": [
        "model.compile(\n",
        "    optimizer=Adam(learning_rate=1e-4),\n",
        "    loss='categorical_crossentropy',\n",
        "    metrics=['accuracy']\n",
        ")\n",
        "\n",
        "model.summary()\n"
      ],
      "metadata": {
        "colab": {
          "base_uri": "https://localhost:8080/",
          "height": 321
        },
        "id": "FBa3d-APaOHz",
        "outputId": "6559476b-cd66-4011-eab4-8235b97feecf"
      },
      "execution_count": null,
      "outputs": [
        {
          "output_type": "display_data",
          "data": {
            "text/plain": [
              "\u001b[1mModel: \"functional_27\"\u001b[0m\n"
            ],
            "text/html": [
              "<pre style=\"white-space:pre;overflow-x:auto;line-height:normal;font-family:Menlo,'DejaVu Sans Mono',consolas,'Courier New',monospace\"><span style=\"font-weight: bold\">Model: \"functional_27\"</span>\n",
              "</pre>\n"
            ]
          },
          "metadata": {}
        },
        {
          "output_type": "display_data",
          "data": {
            "text/plain": [
              "┏━━━━━━━━━━━━━━━━━━━━━━━━━━━━━━━━━┳━━━━━━━━━━━━━━━━━━━━━━━━┳━━━━━━━━━━━━━━━┓\n",
              "┃\u001b[1m \u001b[0m\u001b[1mLayer (type)                   \u001b[0m\u001b[1m \u001b[0m┃\u001b[1m \u001b[0m\u001b[1mOutput Shape          \u001b[0m\u001b[1m \u001b[0m┃\u001b[1m \u001b[0m\u001b[1m      Param #\u001b[0m\u001b[1m \u001b[0m┃\n",
              "┡━━━━━━━━━━━━━━━━━━━━━━━━━━━━━━━━━╇━━━━━━━━━━━━━━━━━━━━━━━━╇━━━━━━━━━━━━━━━┩\n",
              "│ input_layer_2 (\u001b[38;5;33mInputLayer\u001b[0m)      │ (\u001b[38;5;45mNone\u001b[0m, \u001b[38;5;34m180\u001b[0m, \u001b[38;5;34m180\u001b[0m, \u001b[38;5;34m3\u001b[0m)    │             \u001b[38;5;34m0\u001b[0m │\n",
              "├─────────────────────────────────┼────────────────────────┼───────────────┤\n",
              "│ mobilenetv2_1.00_224            │ (\u001b[38;5;45mNone\u001b[0m, \u001b[38;5;34m6\u001b[0m, \u001b[38;5;34m6\u001b[0m, \u001b[38;5;34m1280\u001b[0m)     │     \u001b[38;5;34m2,257,984\u001b[0m │\n",
              "│ (\u001b[38;5;33mFunctional\u001b[0m)                    │                        │               │\n",
              "├─────────────────────────────────┼────────────────────────┼───────────────┤\n",
              "│ global_average_pooling2d        │ (\u001b[38;5;45mNone\u001b[0m, \u001b[38;5;34m1280\u001b[0m)           │             \u001b[38;5;34m0\u001b[0m │\n",
              "│ (\u001b[38;5;33mGlobalAveragePooling2D\u001b[0m)        │                        │               │\n",
              "├─────────────────────────────────┼────────────────────────┼───────────────┤\n",
              "│ dropout_1 (\u001b[38;5;33mDropout\u001b[0m)             │ (\u001b[38;5;45mNone\u001b[0m, \u001b[38;5;34m1280\u001b[0m)           │             \u001b[38;5;34m0\u001b[0m │\n",
              "├─────────────────────────────────┼────────────────────────┼───────────────┤\n",
              "│ dense_2 (\u001b[38;5;33mDense\u001b[0m)                 │ (\u001b[38;5;45mNone\u001b[0m, \u001b[38;5;34m3\u001b[0m)              │         \u001b[38;5;34m3,843\u001b[0m │\n",
              "└─────────────────────────────────┴────────────────────────┴───────────────┘\n"
            ],
            "text/html": [
              "<pre style=\"white-space:pre;overflow-x:auto;line-height:normal;font-family:Menlo,'DejaVu Sans Mono',consolas,'Courier New',monospace\">┏━━━━━━━━━━━━━━━━━━━━━━━━━━━━━━━━━┳━━━━━━━━━━━━━━━━━━━━━━━━┳━━━━━━━━━━━━━━━┓\n",
              "┃<span style=\"font-weight: bold\"> Layer (type)                    </span>┃<span style=\"font-weight: bold\"> Output Shape           </span>┃<span style=\"font-weight: bold\">       Param # </span>┃\n",
              "┡━━━━━━━━━━━━━━━━━━━━━━━━━━━━━━━━━╇━━━━━━━━━━━━━━━━━━━━━━━━╇━━━━━━━━━━━━━━━┩\n",
              "│ input_layer_2 (<span style=\"color: #0087ff; text-decoration-color: #0087ff\">InputLayer</span>)      │ (<span style=\"color: #00d7ff; text-decoration-color: #00d7ff\">None</span>, <span style=\"color: #00af00; text-decoration-color: #00af00\">180</span>, <span style=\"color: #00af00; text-decoration-color: #00af00\">180</span>, <span style=\"color: #00af00; text-decoration-color: #00af00\">3</span>)    │             <span style=\"color: #00af00; text-decoration-color: #00af00\">0</span> │\n",
              "├─────────────────────────────────┼────────────────────────┼───────────────┤\n",
              "│ mobilenetv2_1.00_224            │ (<span style=\"color: #00d7ff; text-decoration-color: #00d7ff\">None</span>, <span style=\"color: #00af00; text-decoration-color: #00af00\">6</span>, <span style=\"color: #00af00; text-decoration-color: #00af00\">6</span>, <span style=\"color: #00af00; text-decoration-color: #00af00\">1280</span>)     │     <span style=\"color: #00af00; text-decoration-color: #00af00\">2,257,984</span> │\n",
              "│ (<span style=\"color: #0087ff; text-decoration-color: #0087ff\">Functional</span>)                    │                        │               │\n",
              "├─────────────────────────────────┼────────────────────────┼───────────────┤\n",
              "│ global_average_pooling2d        │ (<span style=\"color: #00d7ff; text-decoration-color: #00d7ff\">None</span>, <span style=\"color: #00af00; text-decoration-color: #00af00\">1280</span>)           │             <span style=\"color: #00af00; text-decoration-color: #00af00\">0</span> │\n",
              "│ (<span style=\"color: #0087ff; text-decoration-color: #0087ff\">GlobalAveragePooling2D</span>)        │                        │               │\n",
              "├─────────────────────────────────┼────────────────────────┼───────────────┤\n",
              "│ dropout_1 (<span style=\"color: #0087ff; text-decoration-color: #0087ff\">Dropout</span>)             │ (<span style=\"color: #00d7ff; text-decoration-color: #00d7ff\">None</span>, <span style=\"color: #00af00; text-decoration-color: #00af00\">1280</span>)           │             <span style=\"color: #00af00; text-decoration-color: #00af00\">0</span> │\n",
              "├─────────────────────────────────┼────────────────────────┼───────────────┤\n",
              "│ dense_2 (<span style=\"color: #0087ff; text-decoration-color: #0087ff\">Dense</span>)                 │ (<span style=\"color: #00d7ff; text-decoration-color: #00d7ff\">None</span>, <span style=\"color: #00af00; text-decoration-color: #00af00\">3</span>)              │         <span style=\"color: #00af00; text-decoration-color: #00af00\">3,843</span> │\n",
              "└─────────────────────────────────┴────────────────────────┴───────────────┘\n",
              "</pre>\n"
            ]
          },
          "metadata": {}
        },
        {
          "output_type": "display_data",
          "data": {
            "text/plain": [
              "\u001b[1m Total params: \u001b[0m\u001b[38;5;34m2,261,827\u001b[0m (8.63 MB)\n"
            ],
            "text/html": [
              "<pre style=\"white-space:pre;overflow-x:auto;line-height:normal;font-family:Menlo,'DejaVu Sans Mono',consolas,'Courier New',monospace\"><span style=\"font-weight: bold\"> Total params: </span><span style=\"color: #00af00; text-decoration-color: #00af00\">2,261,827</span> (8.63 MB)\n",
              "</pre>\n"
            ]
          },
          "metadata": {}
        },
        {
          "output_type": "display_data",
          "data": {
            "text/plain": [
              "\u001b[1m Trainable params: \u001b[0m\u001b[38;5;34m3,843\u001b[0m (15.01 KB)\n"
            ],
            "text/html": [
              "<pre style=\"white-space:pre;overflow-x:auto;line-height:normal;font-family:Menlo,'DejaVu Sans Mono',consolas,'Courier New',monospace\"><span style=\"font-weight: bold\"> Trainable params: </span><span style=\"color: #00af00; text-decoration-color: #00af00\">3,843</span> (15.01 KB)\n",
              "</pre>\n"
            ]
          },
          "metadata": {}
        },
        {
          "output_type": "display_data",
          "data": {
            "text/plain": [
              "\u001b[1m Non-trainable params: \u001b[0m\u001b[38;5;34m2,257,984\u001b[0m (8.61 MB)\n"
            ],
            "text/html": [
              "<pre style=\"white-space:pre;overflow-x:auto;line-height:normal;font-family:Menlo,'DejaVu Sans Mono',consolas,'Courier New',monospace\"><span style=\"font-weight: bold\"> Non-trainable params: </span><span style=\"color: #00af00; text-decoration-color: #00af00\">2,257,984</span> (8.61 MB)\n",
              "</pre>\n"
            ]
          },
          "metadata": {}
        }
      ]
    },
    {
      "cell_type": "code",
      "source": [
        "# history = model.fit(\n",
        "#     train_generator,\n",
        "#     validation_data=val_generator,\n",
        "#     epochs=10  # or more if needed\n",
        "# )\n"
      ],
      "metadata": {
        "colab": {
          "base_uri": "https://localhost:8080/"
        },
        "id": "ToB4NHeFaRlz",
        "outputId": "cf62cad9-5996-47a9-da9b-bb66ef8b6baf"
      },
      "execution_count": null,
      "outputs": [
        {
          "metadata": {
            "tags": null
          },
          "name": "stderr",
          "output_type": "stream",
          "text": [
            "/usr/local/lib/python3.11/dist-packages/keras/src/trainers/data_adapters/py_dataset_adapter.py:121: UserWarning: Your `PyDataset` class should call `super().__init__(**kwargs)` in its constructor. `**kwargs` can include `workers`, `use_multiprocessing`, `max_queue_size`. Do not pass these arguments to `fit()`, as they will be ignored.\n",
            "  self._warn_if_super_not_called()\n"
          ]
        },
        {
          "output_type": "stream",
          "name": "stdout",
          "text": [
            "Epoch 1/10\n",
            "\u001b[1m163/163\u001b[0m \u001b[32m━━━━━━━━━━━━━━━━━━━━\u001b[0m\u001b[37m\u001b[0m \u001b[1m0s\u001b[0m 13s/step - accuracy: 0.4434 - loss: 1.2376 "
          ]
        },
        {
          "output_type": "stream",
          "name": "stderr",
          "text": [
            "/usr/local/lib/python3.11/dist-packages/keras/src/trainers/data_adapters/py_dataset_adapter.py:121: UserWarning: Your `PyDataset` class should call `super().__init__(**kwargs)` in its constructor. `**kwargs` can include `workers`, `use_multiprocessing`, `max_queue_size`. Do not pass these arguments to `fit()`, as they will be ignored.\n",
            "  self._warn_if_super_not_called()\n"
          ]
        },
        {
          "output_type": "stream",
          "name": "stdout",
          "text": [
            "\b\b\b\b\b\b\b\b\b\b\b\b\b\b\b\b\b\b\b\b\b\b\b\b\b\b\b\b\b\b\b\b\b\b\b\b\b\b\b\b\b\b\b\b\b\b\b\b\b\b\b\b\b\b\b\b\b\b\b\b\b\b\b\b\b\b\b\b\b\b\b\b\b\b\r\u001b[1m163/163\u001b[0m \u001b[32m━━━━━━━━━━━━━━━━━━━━\u001b[0m\u001b[37m\u001b[0m \u001b[1m2112s\u001b[0m 13s/step - accuracy: 0.4438 - loss: 1.2366 - val_accuracy: 0.6250 - val_loss: 0.7813\n",
            "Epoch 2/10\n",
            "\u001b[1m163/163\u001b[0m \u001b[32m━━━━━━━━━━━━━━━━━━━━\u001b[0m\u001b[37m\u001b[0m \u001b[1m98s\u001b[0m 599ms/step - accuracy: 0.6177 - loss: 0.8595 - val_accuracy: 0.6250 - val_loss: 0.7285\n",
            "Epoch 3/10\n",
            "\u001b[1m163/163\u001b[0m \u001b[32m━━━━━━━━━━━━━━━━━━━━\u001b[0m\u001b[37m\u001b[0m \u001b[1m99s\u001b[0m 605ms/step - accuracy: 0.6538 - loss: 0.7721 - val_accuracy: 0.7500 - val_loss: 0.6522\n",
            "Epoch 4/10\n",
            "\u001b[1m163/163\u001b[0m \u001b[32m━━━━━━━━━━━━━━━━━━━━\u001b[0m\u001b[37m\u001b[0m \u001b[1m97s\u001b[0m 595ms/step - accuracy: 0.6829 - loss: 0.7150 - val_accuracy: 0.5625 - val_loss: 0.7564\n",
            "Epoch 5/10\n",
            "\u001b[1m163/163\u001b[0m \u001b[32m━━━━━━━━━━━━━━━━━━━━\u001b[0m\u001b[37m\u001b[0m \u001b[1m97s\u001b[0m 595ms/step - accuracy: 0.6929 - loss: 0.7000 - val_accuracy: 0.5625 - val_loss: 0.7324\n",
            "Epoch 6/10\n",
            "\u001b[1m163/163\u001b[0m \u001b[32m━━━━━━━━━━━━━━━━━━━━\u001b[0m\u001b[37m\u001b[0m \u001b[1m142s\u001b[0m 595ms/step - accuracy: 0.7060 - loss: 0.6824 - val_accuracy: 0.5625 - val_loss: 0.7313\n",
            "Epoch 7/10\n",
            "\u001b[1m163/163\u001b[0m \u001b[32m━━━━━━━━━━━━━━━━━━━━\u001b[0m\u001b[37m\u001b[0m \u001b[1m98s\u001b[0m 601ms/step - accuracy: 0.7225 - loss: 0.6679 - val_accuracy: 0.5625 - val_loss: 0.7508\n",
            "Epoch 8/10\n",
            "\u001b[1m163/163\u001b[0m \u001b[32m━━━━━━━━━━━━━━━━━━━━\u001b[0m\u001b[37m\u001b[0m \u001b[1m98s\u001b[0m 603ms/step - accuracy: 0.7151 - loss: 0.6579 - val_accuracy: 0.5625 - val_loss: 0.7749\n",
            "Epoch 9/10\n",
            "\u001b[1m163/163\u001b[0m \u001b[32m━━━━━━━━━━━━━━━━━━━━\u001b[0m\u001b[37m\u001b[0m \u001b[1m98s\u001b[0m 599ms/step - accuracy: 0.7201 - loss: 0.6427 - val_accuracy: 0.5625 - val_loss: 0.7938\n",
            "Epoch 10/10\n",
            "\u001b[1m163/163\u001b[0m \u001b[32m━━━━━━━━━━━━━━━━━━━━\u001b[0m\u001b[37m\u001b[0m \u001b[1m96s\u001b[0m 589ms/step - accuracy: 0.7501 - loss: 0.5920 - val_accuracy: 0.5625 - val_loss: 0.7493\n"
          ]
        }
      ]
    },
    {
      "cell_type": "code",
      "source": [
        "# model.save('/content/drive/MyDrive/pneumonia_transfer_model.keras')\n"
      ],
      "metadata": {
        "id": "e1UeezHeaUNe"
      },
      "execution_count": null,
      "outputs": []
    },
    {
      "cell_type": "code",
      "source": [
        "model = load_model('/content/drive/MyDrive/pneumonia_transfer_model.keras')"
      ],
      "metadata": {
        "id": "1z6ktcV7mfQg"
      },
      "execution_count": null,
      "outputs": []
    },
    {
      "cell_type": "code",
      "source": [
        "# Comment this after saving\n",
        "# history = model.fit(...)\n",
        "\n",
        "# Use this after training is done\n",
        "with open('/content/drive/MyDrive/pneumonia_history.pkl', 'rb') as f:\n",
        "    history_dict = pickle.load(f)\n",
        "history = DummyHistory(history_dict)\n"
      ],
      "metadata": {
        "id": "X0B3lesln7kH"
      },
      "execution_count": null,
      "outputs": []
    },
    {
      "cell_type": "code",
      "source": [
        "import matplotlib.pyplot as plt\n",
        "\n",
        "acc = history.history['accuracy']\n",
        "loss = history.history['loss']\n",
        "epochs = range(1, len(acc) + 1)\n",
        "\n",
        "plt.figure(figsize=(12, 5))\n",
        "\n",
        "# Plot Training Accuracy\n",
        "plt.subplot(1, 2, 1)\n",
        "plt.plot(epochs, acc, 'bo-', label='Train Accuracy')\n",
        "plt.title('Training Accuracy')\n",
        "plt.xlabel('Epochs')\n",
        "plt.ylabel('Accuracy')\n",
        "plt.legend()\n",
        "\n",
        "# Plot Training Loss\n",
        "plt.subplot(1, 2, 2)\n",
        "plt.plot(epochs, loss, 'bo-', label='Train Loss')\n",
        "plt.title('Training Loss')\n",
        "plt.xlabel('Epochs')\n",
        "plt.ylabel('Loss')\n",
        "plt.legend()\n",
        "\n",
        "plt.tight_layout()\n",
        "plt.show()\n"
      ],
      "metadata": {
        "colab": {
          "base_uri": "https://localhost:8080/",
          "height": 476
        },
        "id": "wwlszLCSobhe",
        "outputId": "9314ad58-e1bb-447e-82d6-9bc629f7e4b0"
      },
      "execution_count": null,
      "outputs": [
        {
          "output_type": "display_data",
          "data": {
            "text/plain": [
              "<Figure size 1200x500 with 2 Axes>"
            ],
            "image/png": "[encoded data removed]"
          },
          "metadata": {}
        }
      ]
    },
    {
      "cell_type": "code",
      "source": [
        "import numpy as np\n",
        "\n",
        "# Predict class probabilities on test set\n",
        "y_test_pred_probs = model.predict(test_generator)\n",
        "y_test_pred = np.argmax(y_test_pred_probs, axis=1)\n",
        "\n",
        "# Get true labels\n",
        "y_test_true = test_generator.classes\n"
      ],
      "metadata": {
        "colab": {
          "base_uri": "https://localhost:8080/"
        },
        "id": "KtfLIx5Moo1m",
        "outputId": "ef6b614f-4fa0-4b71-ac2c-7df11ca3cb88"
      },
      "execution_count": null,
      "outputs": [
        {
          "output_type": "stream",
          "name": "stdout",
          "text": [
            "\u001b[1m28/28\u001b[0m \u001b[32m━━━━━━━━━━━━━━━━━━━━\u001b[0m\u001b[37m\u001b[0m \u001b[1m82s\u001b[0m 3s/step\n"
          ]
        }
      ]
    },
    {
      "cell_type": "code",
      "source": [
        "from sklearn.metrics import classification_report\n",
        "\n",
        "# Get class names (same as test_generator.classes mapping)\n",
        "class_names = list(test_generator.class_indices.keys())\n",
        "\n",
        "# Print classification report\n",
        "print(classification_report(y_test_true, y_test_pred, target_names=class_names))\n"
      ],
      "metadata": {
        "colab": {
          "base_uri": "https://localhost:8080/"
        },
        "id": "ZSC-1QeepM9f",
        "outputId": "09075e6b-565b-4325-c67e-7435d91fabca"
      },
      "execution_count": null,
      "outputs": [
        {
          "output_type": "stream",
          "name": "stdout",
          "text": [
            "                     precision    recall  f1-score   support\n",
            "\n",
            "BACTERIAL_PNEUMONIA       0.76      0.86      0.81       417\n",
            "             NORMAL       0.84      0.94      0.89       238\n",
            "    VIRAL_PNEUMONIA       0.71      0.46      0.55       224\n",
            "\n",
            "           accuracy                           0.78       879\n",
            "          macro avg       0.77      0.75      0.75       879\n",
            "       weighted avg       0.77      0.78      0.77       879\n",
            "\n"
          ]
        }
      ]
    },
    {
      "cell_type": "code",
      "source": [
        "from sklearn.metrics import confusion_matrix\n",
        "import seaborn as sns\n",
        "import matplotlib.pyplot as plt\n",
        "\n",
        "cm = confusion_matrix(y_test_true, y_test_pred)\n",
        "\n",
        "plt.figure(figsize=(6, 5))\n",
        "sns.heatmap(cm, annot=True, fmt='d', cmap='Blues',\n",
        "            xticklabels=class_names,\n",
        "            yticklabels=class_names)\n",
        "plt.xlabel('Predicted')\n",
        "plt.ylabel('Actual')\n",
        "plt.title('Confusion Matrix (Test Set)')\n",
        "plt.tight_layout()\n",
        "plt.show()\n"
      ],
      "metadata": {
        "colab": {
          "base_uri": "https://localhost:8080/",
          "height": 507
        },
        "id": "u7Swj7HzpQmO",
        "outputId": "3d80fc23-eeb4-4160-8b30-62d18fe1d3e4"
      },
      "execution_count": null,
      "outputs": [
        {
          "output_type": "display_data",
          "data": {
            "text/plain": [
              "<Figure size 600x500 with 2 Axes>"
            ],
            "image/png": "[encoded data removed]"
          },
          "metadata": {}
        }
      ]
    },
    {
      "cell_type": "code",
      "source": [
        "import numpy as np\n",
        "from sklearn.metrics import accuracy_score\n",
        "\n",
        "# Predict test set labels\n",
        "y_test_pred_probs = model.predict(test_generator)\n",
        "y_test_pred = np.argmax(y_test_pred_probs, axis=1)\n",
        "y_test_true = test_generator.classes\n",
        "\n",
        "# ✅ Calculate overall test accuracy\n",
        "test_accuracy = accuracy_score(y_test_true, y_test_pred)\n",
        "\n",
        "print(f\"✅ Test Accuracy: {test_accuracy * 100:.2f}%\")\n"
      ],
      "metadata": {
        "colab": {
          "base_uri": "https://localhost:8080/"
        },
        "id": "FkuRkupTpTa_",
        "outputId": "8a08793d-aae9-4de6-e627-4a689ed601a4"
      },
      "execution_count": null,
      "outputs": [
        {
          "output_type": "stream",
          "name": "stdout",
          "text": [
            "\u001b[1m28/28\u001b[0m \u001b[32m━━━━━━━━━━━━━━━━━━━━\u001b[0m\u001b[37m\u001b[0m \u001b[1m11s\u001b[0m 377ms/step\n",
            "✅ Test Accuracy: 77.82%\n"
          ]
        }
      ]
    },
    {
      "cell_type": "code",
      "source": [],
      "metadata": {
        "id": "cWh84wAqqtr2"
      },
      "execution_count": null,
      "outputs": []
    }
  ]
}